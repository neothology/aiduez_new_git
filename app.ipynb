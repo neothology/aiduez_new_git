{
 "cells": [
  {
   "cell_type": "code",
   "execution_count": 1,
   "id": "d2aed7db",
   "metadata": {
    "scrolled": false
   },
   "outputs": [
    {
     "data": {
      "application/vnd.jupyter.widget-view+json": {
       "model_id": "143158729d03441285562f3b4bf1dc3e",
       "version_major": 2,
       "version_minor": 0
      },
      "text/plain": [
       "BackGround(children=[TopArea(children=[Container(children=[AppBarNavIcon(style_='')], style_='min-width:50px; …"
      ]
     },
     "metadata": {},
     "output_type": "display_data"
    }
   ],
   "source": [
    "from app import Aian\n",
    "aian = Aian()\n",
    "aian.start()"
   ]
  },
  {
   "cell_type": "code",
   "execution_count": null,
   "id": "bf79b5d8",
   "metadata": {},
   "outputs": [],
   "source": []
  }
 ],
 "metadata": {
  "kernelspec": {
   "display_name": "Python 3",
   "language": "python",
   "name": "python3"
  },
  "language_info": {
   "codemirror_mode": {
    "name": "ipython",
    "version": 3
   },
   "file_extension": ".py",
   "mimetype": "text/x-python",
   "name": "python",
   "nbconvert_exporter": "python",
   "pygments_lexer": "ipython3",
   "version": "3.8.10"
  }
 },
 "nbformat": 4,
 "nbformat_minor": 5
}
