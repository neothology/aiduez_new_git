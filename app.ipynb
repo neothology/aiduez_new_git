{
 "cells": [
  {
   "cell_type": "code",
   "execution_count": 1,
   "id": "9b23111c",
   "metadata": {
    "scrolled": false
   },
   "outputs": [
    {
     "data": {
      "application/vnd.jupyter.widget-view+json": {
       "model_id": "dcc259098df34cba81e153aa3cb4daed",
       "version_major": 2,
       "version_minor": 0
      },
      "text/plain": [
       "BackGround(children=[TopArea(children=[Container(children=[AppBarNavIcon(style_='color:#000000;\\n')], style_='…"
      ]
     },
     "metadata": {},
     "output_type": "display_data"
    }
   ],
   "source": [
    "import os\n",
    "os.chdir(\"/opt/code/aiduez\")\n",
    "from app import Aian\n",
    "aian = Aian()\n",
    "aian.start()"
   ]
  },
  {
   "cell_type": "code",
   "execution_count": 2,
   "id": "a5cc0f26",
   "metadata": {},
   "outputs": [
    {
     "name": "stdout",
     "output_type": "stream",
     "text": [
      "/opt/code/aiduez\r\n"
     ]
    }
   ],
   "source": [
    "!pwd"
   ]
  },
  {
   "cell_type": "code",
   "execution_count": 3,
   "id": "f4120037",
   "metadata": {},
   "outputs": [],
   "source": [
    "import os"
   ]
  },
  {
   "cell_type": "code",
   "execution_count": 5,
   "id": "93d4056c",
   "metadata": {},
   "outputs": [
    {
     "data": {
      "text/plain": [
       "True"
      ]
     },
     "execution_count": 5,
     "metadata": {},
     "output_type": "execute_result"
    }
   ],
   "source": [
    "os.path.exists('train_test')"
   ]
  },
  {
   "cell_type": "code",
   "execution_count": null,
   "id": "8081f52d",
   "metadata": {},
   "outputs": [],
   "source": []
  }
 ],
 "metadata": {
  "kernelspec": {
   "display_name": "Python 3",
   "language": "python",
   "name": "python3"
  },
  "language_info": {
   "codemirror_mode": {
    "name": "ipython",
    "version": 3
   },
   "file_extension": ".py",
   "mimetype": "text/x-python",
   "name": "python",
   "nbconvert_exporter": "python",
   "pygments_lexer": "ipython3",
   "version": "3.8.10"
  }
 },
 "nbformat": 4,
 "nbformat_minor": 5
}
