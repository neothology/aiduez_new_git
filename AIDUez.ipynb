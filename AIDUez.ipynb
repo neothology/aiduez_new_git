{
 "cells": [
  {
   "cell_type": "code",
   "execution_count": 1,
   "id": "8c438d16",
   "metadata": {},
   "outputs": [
    {
     "data": {
      "application/vnd.jupyter.widget-view+json": {
       "model_id": "9ae1abe9106742c9ac65037072d4a573",
       "version_major": 2,
       "version_minor": 0
      },
      "text/plain": [
       "BackGround(children=[TopArea(children=[Container(children=[AppBarNavIcon(style_='color:#000000;\\n')], style_='…"
      ]
     },
     "metadata": {},
     "output_type": "display_data"
    }
   ],
   "source": [
    "import os; os.chdir(\"/opt/code/aiduez\"); from app import Aian; aian = Aian(); aian.start()"
   ]
  },
  {
   "cell_type": "code",
   "execution_count": null,
   "id": "ac2ee9fb",
   "metadata": {},
   "outputs": [],
   "source": []
  }
 ],
 "metadata": {
  "kernelspec": {
   "display_name": "Python 3",
   "language": "python",
   "name": "python3"
  },
  "language_info": {
   "codemirror_mode": {
    "name": "ipython",
    "version": 3
   },
   "file_extension": ".py",
   "mimetype": "text/x-python",
   "name": "python",
   "nbconvert_exporter": "python",
   "pygments_lexer": "ipython3",
   "version": "3.8.10"
  }
 },
 "nbformat": 4,
 "nbformat_minor": 5
}
