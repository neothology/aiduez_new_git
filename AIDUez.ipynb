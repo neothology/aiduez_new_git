{
 "cells": [
  {
   "cell_type": "code",
   "execution_count": 2,
   "id": "80c33d68",
   "metadata": {},
   "outputs": [
    {
     "data": {
      "application/vnd.jupyter.widget-view+json": {
       "model_id": "92d1bb9a0c6242cc9e55227cf1d2bc1b",
       "version_major": 2,
       "version_minor": 0
      },
      "text/plain": [
       "BackGround(children=[Alert(children=[\"'message'\"], dismissible=True, style_='position:absolute; top:0; margin:…"
      ]
     },
     "metadata": {},
     "output_type": "display_data"
    }
   ],
   "source": [
    "import os; os.chdir(\"/opt/code/aiduez\"); from app import Aian; aian = Aian(); aian.start()"
   ]
  },
  {
   "cell_type": "code",
   "execution_count": 3,
   "id": "3618bf0b",
   "metadata": {},
   "outputs": [],
   "source": [
    "import ipyvuetify as v\n",
    "import traitlets\n"
   ]
  },
  {
   "cell_type": "code",
   "execution_count": 4,
   "id": "567d0b8d",
   "metadata": {},
   "outputs": [],
   "source": [
    "class SelectorCard(v.VuetifyTemplate):\n",
    "    items = traitlets.List([]).tag(sync=True, allow_null=True)  \n",
    "    selected = traitlets.Unicode(default_value=None, allow_none=True).tag(sync=True)\n",
    "    style = traitlets.Unicode(default_value=None, allow_none=True).tag(sync=True)\n",
    "    headline = traitlets.Unicode(default_value=None, allow_none=True).tag(sync=True)\n",
    "\n",
    "    @traitlets.default('template')\n",
    "    def _template(self):\n",
    "        return '''\n",
    "        <template>\n",
    "            <div>\n",
    "                <v-card class=\"mx-auto\" width=\"200px\" outlined>\n",
    "                    <v-card style=\"align-content: space-around; outline-style: none; max-height: 33px; min-height: 33px; width: 100%; color: rgb(100, 116, 139); padding: 0px 0px 0px 16px; background-color: rgb(248, 250, 252); border-bottom: 1px solid rgb(224, 224, 224); \">\n",
    "                        <v-card-text style=\"font-size: 0.875rem; padding: 4px; \">\n",
    "                            {{headline}}\n",
    "                        </v-card-text>\n",
    "                    </v-card>\n",
    "                    <v-card>\n",
    "                        <v-select :items=\"items\" v-model=\"selected\" style=\"width: 170px; margin-left: 12px\"/>\n",
    "                    </v-card>\n",
    "                </v-card>   \n",
    "            </div>\n",
    "        </template>\n",
    "        '''\n",
    "\n",
    "    def __init__(\n",
    "        self, \n",
    "        items:list = [], \n",
    "        style:str = '',\n",
    "        headline:str = '',\n",
    "        *args, \n",
    "        **kwargs\n",
    "    ):\n",
    "        super().__init__(*args, **kwargs)\n",
    "        self.items=items\n",
    "        self.style=style\n",
    "        self.headline=headline"
   ]
  },
  {
   "cell_type": "code",
   "execution_count": 5,
   "id": "c7ec1a7e",
   "metadata": {},
   "outputs": [],
   "source": [
    " s=SelectorCard(\n",
    "                index=0,\n",
    "                items=[\"a\",\"b\",\"c\"],\n",
    "                v_model=None,\n",
    "                _style=\"width: 350px;\",\n",
    "                headline=\"test\"\n",
    "            )"
   ]
  },
  {
   "cell_type": "code",
   "execution_count": 6,
   "id": "3a705c7e",
   "metadata": {},
   "outputs": [
    {
     "data": {
      "application/vnd.jupyter.widget-view+json": {
       "model_id": "861782a8a12d44fa8e249257c0e4b08f",
       "version_major": 2,
       "version_minor": 0
      },
      "text/plain": [
       "SelectorCard(headline='test', items=['a', 'b', 'c'], style='', template='\\n        <template>\\n            <di…"
      ]
     },
     "metadata": {},
     "output_type": "display_data"
    }
   ],
   "source": [
    "s"
   ]
  },
  {
   "cell_type": "code",
   "execution_count": null,
   "id": "50452354",
   "metadata": {},
   "outputs": [],
   "source": []
  },
  {
   "cell_type": "code",
   "execution_count": null,
   "id": "ea79319b",
   "metadata": {},
   "outputs": [],
   "source": []
  }
 ],
 "metadata": {
  "kernelspec": {
   "display_name": "Python 3",
   "language": "python",
   "name": "python3"
  },
  "language_info": {
   "codemirror_mode": {
    "name": "ipython",
    "version": 3
   },
   "file_extension": ".py",
   "mimetype": "text/x-python",
   "name": "python",
   "nbconvert_exporter": "python",
   "pygments_lexer": "ipython3",
   "version": "3.8.10"
  }
 },
 "nbformat": 4,
 "nbformat_minor": 5
}
