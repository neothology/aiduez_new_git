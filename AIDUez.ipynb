{
 "cells": [
  {
   "cell_type": "code",
   "execution_count": null,
   "id": "36ed66ce",
   "metadata": {},
   "outputs": [],
   "source": [
    "import os; os.chdir(\"/opt/code/aiduez\"); from app import Aian; aian = Aian(); aian.start()"
   ]
  },
  {
   "cell_type": "code",
   "execution_count": 3,
   "id": "3618bf0b",
   "metadata": {},
   "outputs": [],
   "source": [
    "import ipyvuetify as v\n",
    "import traitlets\n"
   ]
  },
  {
   "cell_type": "code",
   "execution_count": 4,
   "id": "64b10b9a",
   "metadata": {},
   "outputs": [],
   "source": [
    "import ipyvuetify as v\n",
    "import traitlets\n",
    "\n",
    "class VerticalStepper(v.VuetifyTemplate):\n",
    "    e13 = traitlets.Integer(default_value=None, allow_none=True).tag(sync=True)\n",
    "\n",
    "    items = traitlets.List([]).tag(sync=True, allow_null=True)  \n",
    "    selected = traitlets.Unicode(default_value=None, allow_none=True).tag(sync=True)\n",
    "    style = traitlets.Unicode(default_value=None, allow_none=True).tag(sync=True)\n",
    "    headline = traitlets.Unicode(default_value=None, allow_none=True).tag(sync=True)\n",
    "\n",
    "    @traitlets.default('template')\n",
    "    def _template(self):\n",
    "        return'''\n",
    "        <template>\n",
    "            <v-stepper\n",
    "                v-model=\"e13\"\n",
    "                vertical\n",
    "            >\n",
    "                <v-stepper-step\n",
    "                step=\"1\"\n",
    "                complete\n",
    "                >\n",
    "                Name of step 1\n",
    "                </v-stepper-step>\n",
    "\n",
    "                <v-stepper-content step=\"1\">\n",
    "                    <v-card class=\"mx-auto\" >\n",
    "                        <v-card-text style=\"font-size: 0.875rem; padding: 4px; \">\n",
    "                            {{headline}}\n",
    "                        </v-card-text>\n",
    "                        <v-card>\n",
    "                            <v-select :items=\"items\" v-model=\"selected\" style=\"width: 300px; margin-left: 12px\"/>\n",
    "                        </v-card>\n",
    "                    </v-card>   \n",
    "                                \n",
    "                <v-btn\n",
    "                    color=\"primary\"\n",
    "                    @click=\"e13 = 2\"\n",
    "                >\n",
    "                    Continue\n",
    "                </v-btn>\n",
    "                <v-btn text>\n",
    "                    Cancel\n",
    "                </v-btn>\n",
    "                </v-stepper-content>\n",
    "\n",
    "            </v-stepper>\n",
    "        </template>\n",
    "        '''\n",
    "    #def vue_stepper(self, data=None):\n",
    "    #        fruit = other_fruits.pop()\n",
    "\n",
    "    def __init__(\n",
    "        self, \n",
    "        items:list = [], \n",
    "        style:str = '',\n",
    "        headline:str = '',\n",
    "        *args, \n",
    "        **kwargs\n",
    "    ):\n",
    "        super().__init__(*args, **kwargs)\n",
    "        self.items=items\n",
    "        self.style=style\n",
    "        self.headline=headline\n",
    "        self.e13=\"2\"\n"
   ]
  },
  {
   "cell_type": "code",
   "execution_count": 5,
   "id": "4c04bc6f",
   "metadata": {},
   "outputs": [
    {
     "ename": "TraitError",
     "evalue": "The 'e13' trait of a VerticalStepper instance expected an int, not the str '2'.",
     "output_type": "error",
     "traceback": [
      "\u001b[0;31m---------------------------------------------------------------------------\u001b[0m",
      "\u001b[0;31mTraitError\u001b[0m                                Traceback (most recent call last)",
      "Input \u001b[0;32mIn [5]\u001b[0m, in \u001b[0;36m<module>\u001b[0;34m\u001b[0m\n\u001b[0;32m----> 1\u001b[0m vs\u001b[38;5;241m=\u001b[39m \u001b[43mVerticalStepper\u001b[49m\u001b[43m(\u001b[49m\u001b[43m[\u001b[49m\u001b[38;5;124;43m\"\u001b[39;49m\u001b[38;5;124;43mA\u001b[39;49m\u001b[38;5;124;43m\"\u001b[39;49m\u001b[43m,\u001b[49m\u001b[38;5;124;43m\"\u001b[39;49m\u001b[38;5;124;43mB\u001b[39;49m\u001b[38;5;124;43m\"\u001b[39;49m\u001b[43m,\u001b[49m\u001b[38;5;124;43m\"\u001b[39;49m\u001b[38;5;124;43mC\u001b[39;49m\u001b[38;5;124;43m\"\u001b[39;49m\u001b[43m]\u001b[49m\u001b[43m,\u001b[49m\u001b[38;5;124;43m\"\u001b[39;49m\u001b[38;5;124;43m\"\u001b[39;49m\u001b[43m)\u001b[49m\n",
      "Input \u001b[0;32mIn [4]\u001b[0m, in \u001b[0;36mVerticalStepper.__init__\u001b[0;34m(self, items, style, headline, *args, **kwargs)\u001b[0m\n\u001b[1;32m     64\u001b[0m \u001b[38;5;28mself\u001b[39m\u001b[38;5;241m.\u001b[39mstyle\u001b[38;5;241m=\u001b[39mstyle\n\u001b[1;32m     65\u001b[0m \u001b[38;5;28mself\u001b[39m\u001b[38;5;241m.\u001b[39mheadline\u001b[38;5;241m=\u001b[39mheadline\n\u001b[0;32m---> 66\u001b[0m \u001b[38;5;28mself\u001b[39m\u001b[38;5;241m.\u001b[39me13\u001b[38;5;241m=\u001b[39m\u001b[38;5;124m\"\u001b[39m\u001b[38;5;124m2\u001b[39m\u001b[38;5;124m\"\u001b[39m\n",
      "File \u001b[0;32m/usr/local/lib/python3.8/dist-packages/traitlets/traitlets.py:606\u001b[0m, in \u001b[0;36mTraitType.__set__\u001b[0;34m(self, obj, value)\u001b[0m\n\u001b[1;32m    604\u001b[0m     \u001b[38;5;28;01mraise\u001b[39;00m TraitError(\u001b[38;5;124m'\u001b[39m\u001b[38;5;124mThe \u001b[39m\u001b[38;5;124m\"\u001b[39m\u001b[38;5;132;01m%s\u001b[39;00m\u001b[38;5;124m\"\u001b[39m\u001b[38;5;124m trait is read-only.\u001b[39m\u001b[38;5;124m'\u001b[39m \u001b[38;5;241m%\u001b[39m \u001b[38;5;28mself\u001b[39m\u001b[38;5;241m.\u001b[39mname)\n\u001b[1;32m    605\u001b[0m \u001b[38;5;28;01melse\u001b[39;00m:\n\u001b[0;32m--> 606\u001b[0m     \u001b[38;5;28;43mself\u001b[39;49m\u001b[38;5;241;43m.\u001b[39;49m\u001b[43mset\u001b[49m\u001b[43m(\u001b[49m\u001b[43mobj\u001b[49m\u001b[43m,\u001b[49m\u001b[43m \u001b[49m\u001b[43mvalue\u001b[49m\u001b[43m)\u001b[49m\n",
      "File \u001b[0;32m/usr/local/lib/python3.8/dist-packages/traitlets/traitlets.py:580\u001b[0m, in \u001b[0;36mTraitType.set\u001b[0;34m(self, obj, value)\u001b[0m\n\u001b[1;32m    579\u001b[0m \u001b[38;5;28;01mdef\u001b[39;00m \u001b[38;5;21mset\u001b[39m(\u001b[38;5;28mself\u001b[39m, obj, value):\n\u001b[0;32m--> 580\u001b[0m     new_value \u001b[38;5;241m=\u001b[39m \u001b[38;5;28;43mself\u001b[39;49m\u001b[38;5;241;43m.\u001b[39;49m\u001b[43m_validate\u001b[49m\u001b[43m(\u001b[49m\u001b[43mobj\u001b[49m\u001b[43m,\u001b[49m\u001b[43m \u001b[49m\u001b[43mvalue\u001b[49m\u001b[43m)\u001b[49m\n\u001b[1;32m    581\u001b[0m     \u001b[38;5;28;01mtry\u001b[39;00m:\n\u001b[1;32m    582\u001b[0m         old_value \u001b[38;5;241m=\u001b[39m obj\u001b[38;5;241m.\u001b[39m_trait_values[\u001b[38;5;28mself\u001b[39m\u001b[38;5;241m.\u001b[39mname]\n",
      "File \u001b[0;32m/usr/local/lib/python3.8/dist-packages/traitlets/traitlets.py:612\u001b[0m, in \u001b[0;36mTraitType._validate\u001b[0;34m(self, obj, value)\u001b[0m\n\u001b[1;32m    610\u001b[0m     \u001b[38;5;28;01mreturn\u001b[39;00m value\n\u001b[1;32m    611\u001b[0m \u001b[38;5;28;01mif\u001b[39;00m \u001b[38;5;28mhasattr\u001b[39m(\u001b[38;5;28mself\u001b[39m, \u001b[38;5;124m'\u001b[39m\u001b[38;5;124mvalidate\u001b[39m\u001b[38;5;124m'\u001b[39m):\n\u001b[0;32m--> 612\u001b[0m     value \u001b[38;5;241m=\u001b[39m \u001b[38;5;28;43mself\u001b[39;49m\u001b[38;5;241;43m.\u001b[39;49m\u001b[43mvalidate\u001b[49m\u001b[43m(\u001b[49m\u001b[43mobj\u001b[49m\u001b[43m,\u001b[49m\u001b[43m \u001b[49m\u001b[43mvalue\u001b[49m\u001b[43m)\u001b[49m\n\u001b[1;32m    613\u001b[0m \u001b[38;5;28;01mif\u001b[39;00m obj\u001b[38;5;241m.\u001b[39m_cross_validation_lock \u001b[38;5;129;01mis\u001b[39;00m \u001b[38;5;28;01mFalse\u001b[39;00m:\n\u001b[1;32m    614\u001b[0m     value \u001b[38;5;241m=\u001b[39m \u001b[38;5;28mself\u001b[39m\u001b[38;5;241m.\u001b[39m_cross_validate(obj, value)\n",
      "File \u001b[0;32m/usr/local/lib/python3.8/dist-packages/traitlets/traitlets.py:2046\u001b[0m, in \u001b[0;36mInt.validate\u001b[0;34m(self, obj, value)\u001b[0m\n\u001b[1;32m   2044\u001b[0m \u001b[38;5;28;01mdef\u001b[39;00m \u001b[38;5;21mvalidate\u001b[39m(\u001b[38;5;28mself\u001b[39m, obj, value):\n\u001b[1;32m   2045\u001b[0m     \u001b[38;5;28;01mif\u001b[39;00m \u001b[38;5;129;01mnot\u001b[39;00m \u001b[38;5;28misinstance\u001b[39m(value, \u001b[38;5;28mint\u001b[39m):\n\u001b[0;32m-> 2046\u001b[0m         \u001b[38;5;28;43mself\u001b[39;49m\u001b[38;5;241;43m.\u001b[39;49m\u001b[43merror\u001b[49m\u001b[43m(\u001b[49m\u001b[43mobj\u001b[49m\u001b[43m,\u001b[49m\u001b[43m \u001b[49m\u001b[43mvalue\u001b[49m\u001b[43m)\u001b[49m\n\u001b[1;32m   2047\u001b[0m     \u001b[38;5;28;01mreturn\u001b[39;00m _validate_bounds(\u001b[38;5;28mself\u001b[39m, obj, value)\n",
      "File \u001b[0;32m/usr/local/lib/python3.8/dist-packages/traitlets/traitlets.py:692\u001b[0m, in \u001b[0;36mTraitType.error\u001b[0;34m(self, obj, value, error, info)\u001b[0m\n\u001b[1;32m    689\u001b[0m \u001b[38;5;28;01melse\u001b[39;00m:\n\u001b[1;32m    690\u001b[0m     e \u001b[38;5;241m=\u001b[39m \u001b[38;5;124m\"\u001b[39m\u001b[38;5;124mThe \u001b[39m\u001b[38;5;124m'\u001b[39m\u001b[38;5;132;01m%s\u001b[39;00m\u001b[38;5;124m'\u001b[39m\u001b[38;5;124m trait expected \u001b[39m\u001b[38;5;132;01m%s\u001b[39;00m\u001b[38;5;124m, not \u001b[39m\u001b[38;5;132;01m%s\u001b[39;00m\u001b[38;5;124m.\u001b[39m\u001b[38;5;124m\"\u001b[39m \u001b[38;5;241m%\u001b[39m (\n\u001b[1;32m    691\u001b[0m         \u001b[38;5;28mself\u001b[39m\u001b[38;5;241m.\u001b[39mname, \u001b[38;5;28mself\u001b[39m\u001b[38;5;241m.\u001b[39minfo(), describe(\u001b[38;5;124m\"\u001b[39m\u001b[38;5;124mthe\u001b[39m\u001b[38;5;124m\"\u001b[39m, value))\n\u001b[0;32m--> 692\u001b[0m \u001b[38;5;28;01mraise\u001b[39;00m TraitError(e)\n",
      "\u001b[0;31mTraitError\u001b[0m: The 'e13' trait of a VerticalStepper instance expected an int, not the str '2'."
     ]
    }
   ],
   "source": [
    "vs= VerticalStepper([\"A\",\"B\",\"C\"],\"\")"
   ]
  },
  {
   "cell_type": "code",
   "execution_count": null,
   "id": "35921eb3",
   "metadata": {},
   "outputs": [],
   "source": [
    "layout=v.Layout(\n",
    "    children=[\n",
    "        v.Row(\n",
    "            style=\"min-heght: 500px;\",\n",
    "            children=[\n",
    "                v.Col(\n",
    "                    md=\"4\",\n",
    "                    children=[\n",
    "                        v.Card(\n",
    "                            outlined=True,\n",
    "                            color=\"yellow\",\n",
    "                            style=\"min-heght: 500px;\",\n",
    "                            children=[\n",
    "                            ]\n",
    "                        )\n",
    "                    ]\n",
    "                ),\n",
    "                v.Col(\n",
    "                    md=\"8\",\n",
    "                    style=\"min-heght: 500px;\",\n",
    "                    children=[\n",
    "                        v.Card(\n",
    "                            outlined=True,\n",
    "                            style=\"min-heght: 500px;\",\n",
    "                            color=\"secondary\",\n",
    "                            )\n",
    "                    ]\n",
    "                )\n",
    "            ]\n",
    "        )\n",
    "    ]\n",
    ")"
   ]
  },
  {
   "cell_type": "code",
   "execution_count": null,
   "id": "b3fff07b",
   "metadata": {},
   "outputs": [],
   "source": [
    "layout"
   ]
  },
  {
   "cell_type": "code",
   "execution_count": null,
   "id": "15b2b3d8",
   "metadata": {},
   "outputs": [],
   "source": [
    "card_body=v.Row(\n",
    "            style_='width: 800px; padding-left: 50px; padding-top: 20px;',\n",
    "            children=[\n",
    "                v.Card(\n",
    "                    elevation=\"1\",\n",
    "                    outlined=True,            \n",
    "                    style_='width: 600px; margin: 0px; padding: 0px; background-color: #F1F5F9; border:hidden; !important; border-radius: 3px;',\n",
    "                    children=[\n",
    "                        v.Card(    \n",
    "                            elevation=\"1\", \n",
    "                            style_=\"align-content: space-around; outline-style: none; max-height: 33px; min-height: 33px; width: 600px; color: #F7FAFC; padding: 0px 0px 0px 0px; \\\n",
    "                            background-color: rgb(248, 250, 252); border-bottom: 1px solid rgb(224, 224, 224); box-shadow: unset; border : none; solid transparent; border-radius: 0px;\",\n",
    "                            children=[\n",
    "                                v.CardText(\n",
    "                                    style_ = \"font-size: 0.875rem; color:rgb(100, 116, 139); padding: 6px; text-align: center;\",\n",
    "                                    children=[\"차트 보기\"]\n",
    "                                )      \n",
    "                            ]\n",
    "                        ),\n",
    "                        v.Card(\n",
    "                            elevation=\"1\",\n",
    "                            style_='max-height: 600px; width: 600px; background-color:#FFFFFF; border-radius: 0px;',       \n",
    "                            children=[\n",
    "                                v.List(\n",
    "                                    children=[]\n",
    "                                )     \n",
    "                            ]\n",
    "                        ),\n",
    "                    ]\n",
    "                )\n",
    "            ]\n",
    "        )"
   ]
  },
  {
   "cell_type": "code",
   "execution_count": null,
   "id": "6e9f5570",
   "metadata": {},
   "outputs": [],
   "source": [
    "card_body"
   ]
  },
  {
   "cell_type": "code",
   "execution_count": null,
   "id": "bb6d015a",
   "metadata": {},
   "outputs": [],
   "source": [
    "class SelectorCard(v.VuetifyTemplate):\n",
    "    items = traitlets.List([]).tag(sync=True, allow_null=True)  \n",
    "    selected = traitlets.Unicode(default_value=None, allow_none=True).tag(sync=True)\n",
    "    style = traitlets.Unicode(default_value=None, allow_none=True).tag(sync=True)\n",
    "    headline = traitlets.Unicode(default_value=None, allow_none=True).tag(sync=True)\n",
    "\n",
    "    @traitlets.default('template')\n",
    "    def _template(self):\n",
    "        return '''\n",
    "        <template>\n",
    "            <div>\n",
    "                <v-card elevation=\"0\" outlined class=\"mx-auto\" width=\"208px\" style=\"box-shadow: none; !important; border-radius: 3px; \">\n",
    "                    <v-card elevation=\"0\" style=\" border-bottom: 1px solid rgb(224, 224, 224); box-shadow: none; !important; align-content: space-around; outline-style: none; max-height: 33px; min-height: 33px; width: 100%; color: rgb(100, 116, 139); padding: 0px 0px 0px 16px; background-color: rgb(248, 250, 252); border-bottom: 1px solid rgb(224, 224, 224); box-shadow: unset; border-radius: 0px; \">\n",
    "                        <v-card-text style=\"font-size: 0.875rem; padding-top: 4px; padding-left: 0px; margin-left: 0px; color: rgb(100, 116, 139); \">\n",
    "                            {{headline}}\n",
    "                        </v-card-text>\n",
    "                    </v-card>\n",
    "                    <v-card style=\"max-height: 55px; min-height: 55px; border-radius: 0px; box-shadow: none; !important;\">\n",
    "                        <v-select :items=\"items\" v-model=\"selected\" item-color=\"secondary\" style=\"width: 180px; margin-left: 12px;\" />\n",
    "                    </v-card>\n",
    "                </v-card>   \n",
    "            </div>\n",
    "        </template>\n",
    "        '''\n",
    "\n",
    "    def __init__(\n",
    "        self, \n",
    "        items:list = [], \n",
    "        style:str = '',\n",
    "        headline:str = '',\n",
    "        *args, \n",
    "        **kwargs\n",
    "    ):\n",
    "        super().__init__(*args, **kwargs)\n",
    "        self.items=items\n",
    "        self.style=style\n",
    "        self.headline=headline\n",
    "s=SelectorCard(['a','b','c'],\"\",\"TEST\")\n",
    "s"
   ]
  },
  {
   "cell_type": "code",
   "execution_count": null,
   "id": "c18f5079",
   "metadata": {},
   "outputs": [],
   "source": []
  },
  {
   "cell_type": "code",
   "execution_count": null,
   "id": "ef46fa77",
   "metadata": {},
   "outputs": [],
   "source": []
  },
  {
   "cell_type": "code",
   "execution_count": null,
   "id": "941b710d",
   "metadata": {},
   "outputs": [],
   "source": [
    "help(v.Card)"
   ]
  },
  {
   "cell_type": "code",
   "execution_count": null,
   "id": "50a8a052",
   "metadata": {},
   "outputs": [],
   "source": [
    "from component.snackbars import ChartFrame\n"
   ]
  },
  {
   "cell_type": "code",
   "execution_count": null,
   "id": "549ce34c",
   "metadata": {},
   "outputs": [],
   "source": []
  },
  {
   "cell_type": "code",
   "execution_count": null,
   "id": "713394a0",
   "metadata": {},
   "outputs": [],
   "source": []
  }
 ],
 "metadata": {
  "kernelspec": {
   "display_name": "Python 3",
   "language": "python",
   "name": "python3"
  },
  "language_info": {
   "codemirror_mode": {
    "name": "ipython",
    "version": 3
   },
   "file_extension": ".py",
   "mimetype": "text/x-python",
   "name": "python",
   "nbconvert_exporter": "python",
   "pygments_lexer": "ipython3",
   "version": "3.8.10"
  }
 },
 "nbformat": 4,
 "nbformat_minor": 5
}
