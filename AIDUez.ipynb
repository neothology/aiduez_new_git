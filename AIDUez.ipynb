{
 "cells": [
  {
   "cell_type": "code",
   "execution_count": 2,
   "id": "7b8fd16c",
   "metadata": {},
   "outputs": [
    {
     "data": {
      "application/vnd.jupyter.widget-view+json": {
       "model_id": "0620848524204d09b46c0b991d8182ba",
       "version_major": 2,
       "version_minor": 0
      },
      "text/plain": [
       "BackGround(children=[Alert(children=[\"'message'\"], dismissible=True, style_='position:absolute; top:0; margin:…"
      ]
     },
     "metadata": {},
     "output_type": "display_data"
    }
   ],
   "source": [
    "import os; os.chdir(\"/opt/code/aiduez\"); from app import Aian; aian = Aian(); aian.start()"
   ]
  },
  {
   "cell_type": "code",
   "execution_count": null,
   "id": "3618bf0b",
   "metadata": {},
   "outputs": [],
   "source": []
  }
 ],
 "metadata": {
  "kernelspec": {
   "display_name": "Python 3",
   "language": "python",
   "name": "python3"
  },
  "language_info": {
   "codemirror_mode": {
    "name": "ipython",
    "version": 3
   },
   "file_extension": ".py",
   "mimetype": "text/x-python",
   "name": "python",
   "nbconvert_exporter": "python",
   "pygments_lexer": "ipython3",
   "version": "3.8.10"
  }
 },
 "nbformat": 4,
 "nbformat_minor": 5
}
