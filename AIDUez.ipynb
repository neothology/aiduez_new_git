{
 "cells": [
  {
   "cell_type": "code",
   "execution_count": null,
   "id": "eb28b300",
   "metadata": {},
   "outputs": [],
   "source": [
    "import os; os.chdir(\"/opt/code/aiduez\"); from app import Aian; aian = Aian(); aian.start()"
   ]
  },
  {
   "cell_type": "code",
   "execution_count": null,
   "id": "3618bf0b",
   "metadata": {},
   "outputs": [],
   "source": [
    "import ipyvuetify as v\n",
    "import traitlets\n"
   ]
  },
  {
   "cell_type": "code",
   "execution_count": null,
   "id": "07755c4c",
   "metadata": {},
   "outputs": [],
   "source": [
    "import ipyvuetify as v\n",
    "import traitlets\n",
    "\n",
    "class VerticalStepper(v.VuetifyTemplate):\n",
    "    e13 = traitlets.Unicode(default_value=None, allow_none=True).tag(sync=True)\n",
    "\n",
    "    items = traitlets.List([]).tag(sync=True, allow_null=True)  \n",
    "    selected = traitlets.Unicode(default_value=None, allow_none=True).tag(sync=True)\n",
    "    style = traitlets.Unicode(default_value=None, allow_none=True).tag(sync=True)\n",
    "    headline = traitlets.Unicode(default_value=None, allow_none=True).tag(sync=True)\n",
    "\n",
    "    @traitlets.default('template')\n",
    "    def _template(self):\n",
    "        return'''\n",
    "        <template>\n",
    "            <v-stepper\n",
    "                v-model=\"e13\"\n",
    "                vertical\n",
    "            >\n",
    "                <v-stepper-step\n",
    "                step=\"1\"\n",
    "                complete\n",
    "                >\n",
    "                Name of step 1\n",
    "                </v-stepper-step>\n",
    "\n",
    "                <v-stepper-content step=\"1\">\n",
    "                    <v-card class=\"mx-auto\" >\n",
    "                        <v-card-text style=\"font-size: 0.875rem; padding: 4px; \">\n",
    "                            {{headline}}\n",
    "                        </v-card-text>\n",
    "                        <v-card>\n",
    "                            <v-select :items=\"items\" v-model=\"selected\" style=\"width: 300px; margin-left: 12px\"/>\n",
    "                        </v-card>\n",
    "                    </v-card>   \n",
    "                                \n",
    "                <v-btn\n",
    "                    color=\"primary\"\n",
    "                    @click=\"e13 = 2\"\n",
    "                >\n",
    "                    Continue\n",
    "                </v-btn>\n",
    "                <v-btn text>\n",
    "                    Cancel\n",
    "                </v-btn>\n",
    "                </v-stepper-content>\n",
    "\n",
    "            </v-stepper>\n",
    "        </template>\n",
    "        '''\n",
    "    #def vue_stepper(self, data=None):\n",
    "    #        fruit = other_fruits.pop()\n",
    "\n",
    "    def __init__(\n",
    "        self, \n",
    "        items:list = [], \n",
    "        style:str = '',\n",
    "        headline:str = '',\n",
    "        *args, \n",
    "        **kwargs\n",
    "    ):\n",
    "        super().__init__(*args, **kwargs)\n",
    "        self.items=items\n",
    "        self.style=style\n",
    "        self.headline=headline\n",
    "        self.e13=\"2\"\n"
   ]
  },
  {
   "cell_type": "code",
   "execution_count": null,
   "id": "e7960927",
   "metadata": {},
   "outputs": [],
   "source": [
    "vs= VerticalStepper([\"A\",\"B\",\"C\"],\"\")"
   ]
  },
  {
   "cell_type": "code",
   "execution_count": null,
   "id": "4af9f3f0",
   "metadata": {},
   "outputs": [],
   "source": [
    "layout=v.Layout(\n",
    "    children=[\n",
    "        v.Row(\n",
    "            style=\"min-heght: 500px;\",\n",
    "            children=[\n",
    "                v.Col(\n",
    "                    md=\"4\",\n",
    "                    children=[\n",
    "                        v.Card(\n",
    "                            outlined=True,\n",
    "                            color=\"yellow\",\n",
    "                            style=\"min-heght: 500px;\",\n",
    "                            children=[\n",
    "                                vs\n",
    "                            ]\n",
    "                        )\n",
    "                    ]\n",
    "                ),\n",
    "                v.Col(\n",
    "                    md=\"8\",\n",
    "                    style=\"min-heght: 500px;\",\n",
    "                    children=[\n",
    "                        v.Card(\n",
    "                            outlined=True,\n",
    "                            style=\"min-heght: 500px;\",\n",
    "                            color=\"secondary\",\n",
    "                            )\n",
    "                    ]\n",
    "                )\n",
    "            ]\n",
    "        )\n",
    "    ]\n",
    ")"
   ]
  },
  {
   "cell_type": "code",
   "execution_count": null,
   "id": "275d5aad",
   "metadata": {},
   "outputs": [],
   "source": [
    "layout"
   ]
  },
  {
   "cell_type": "code",
   "execution_count": null,
   "id": "1034fe72",
   "metadata": {},
   "outputs": [],
   "source": []
  },
  {
   "cell_type": "code",
   "execution_count": null,
   "id": "27ecf544",
   "metadata": {},
   "outputs": [],
   "source": [
    "s=v.Stepper()"
   ]
  },
  {
   "cell_type": "code",
   "execution_count": null,
   "id": "806ceb91",
   "metadata": {},
   "outputs": [],
   "source": []
  },
  {
   "cell_type": "code",
   "execution_count": null,
   "id": "b70af028",
   "metadata": {},
   "outputs": [],
   "source": [
    "s"
   ]
  },
  {
   "cell_type": "code",
   "execution_count": null,
   "id": "47f94335",
   "metadata": {},
   "outputs": [],
   "source": []
  }
 ],
 "metadata": {
  "kernelspec": {
   "display_name": "Python 3",
   "language": "python",
   "name": "python3"
  },
  "language_info": {
   "codemirror_mode": {
    "name": "ipython",
    "version": 3
   },
   "file_extension": ".py",
   "mimetype": "text/x-python",
   "name": "python",
   "nbconvert_exporter": "python",
   "pygments_lexer": "ipython3",
   "version": "3.8.10"
  }
 },
 "nbformat": 4,
 "nbformat_minor": 5
}
