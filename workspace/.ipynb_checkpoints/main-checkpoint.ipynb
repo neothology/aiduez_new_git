{
 "cells": [
  {
   "cell_type": "code",
   "execution_count": 4,
   "id": "60b0d655",
   "metadata": {
    "scrolled": false
   },
   "outputs": [
    {
     "data": {
      "application/vnd.jupyter.widget-view+json": {
       "model_id": "0f2e3407f6c94a179339ec67c606193e",
       "version_major": 2,
       "version_minor": 0
      },
      "text/plain": [
       "Container(children=['test'], class_='app-background', style_='background-color: #da7070 !important;')"
      ]
     },
     "metadata": {},
     "output_type": "display_data"
    },
    {
     "name": "stdout",
     "output_type": "stream",
     "text": [
      "ttt\n"
     ]
    }
   ],
   "source": [
    "import ipyvuetify as v\n",
    "test = v.Container(class_='app-background', children=['test'], style_='background-color: #da7070 !important;')\n",
    "display(test)\n",
    "print('ttt')\n"
   ]
  },
  {
   "cell_type": "code",
   "execution_count": null,
   "id": "753be210",
   "metadata": {},
   "outputs": [],
   "source": []
  }
 ],
 "metadata": {
  "kernelspec": {
   "display_name": "Python 3",
   "language": "python",
   "name": "python3"
  },
  "language_info": {
   "codemirror_mode": {
    "name": "ipython",
    "version": 3
   },
   "file_extension": ".py",
   "mimetype": "text/x-python",
   "name": "python",
   "nbconvert_exporter": "python",
   "pygments_lexer": "ipython3",
   "version": "3.8.10"
  }
 },
 "nbformat": 4,
 "nbformat_minor": 5
}
