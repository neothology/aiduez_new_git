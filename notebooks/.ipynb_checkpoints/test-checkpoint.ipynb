{
 "cells": [
  {
   "cell_type": "code",
   "execution_count": 26,
   "id": "a19986e2",
   "metadata": {},
   "outputs": [],
   "source": [
    "import ipyvuetify as v"
   ]
  },
  {
   "cell_type": "code",
   "execution_count": 27,
   "id": "61353709",
   "metadata": {},
   "outputs": [],
   "source": [
    "a = v.List()"
   ]
  },
  {
   "cell_type": "code",
   "execution_count": null,
   "id": "9b1f6b11",
   "metadata": {},
   "outputs": [],
   "source": [
    "g = v.ListGroup(\n",
    "        ripple = False,\n",
    "        prepend_icon = \"mdi-home\",\n",
    "        v_slots = [{\n",
    "            \"name\": \"activator\",\n",
    "            \"children\": v.ListItemContent(\n",
    "                style_ = \"padding-left:15px; color:#e2e2e2de;\",\n",
    "                children = [\n",
    "                    v.ListItemTitle(\n",
    "                        style_ = \"font-size:0.9rem;\",\n",
    "                        children = [item['title']]\n",
    "                    ),\n",
    "                ],\n",
    "            ),\n",
    "        }],\n",
    "        children = _make_sub_menu(item['sub_menu']),\n",
    "    )"
   ]
  }
 ],
 "metadata": {
  "kernelspec": {
   "display_name": "Python 3",
   "language": "python",
   "name": "python3"
  },
  "language_info": {
   "codemirror_mode": {
    "name": "ipython",
    "version": 3
   },
   "file_extension": ".py",
   "mimetype": "text/x-python",
   "name": "python",
   "nbconvert_exporter": "python",
   "pygments_lexer": "ipython3",
   "version": "3.8.10"
  }
 },
 "nbformat": 4,
 "nbformat_minor": 5
}
