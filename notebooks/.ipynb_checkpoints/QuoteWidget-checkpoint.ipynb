{
 "cells": [
  {
   "cell_type": "code",
   "execution_count": null,
   "metadata": {},
   "outputs": [],
   "source": [
    "im"
   ]
  },
  {
   "cell_type": "code",
   "execution_count": 2,
   "metadata": {
    "scrolled": false
   },
   "outputs": [
    {
     "ename": "ModuleNotFoundError",
     "evalue": "No module named 'aian'",
     "output_type": "error",
     "traceback": [
      "\u001b[0;31m---------------------------------------------------------------------------\u001b[0m",
      "\u001b[0;31mModuleNotFoundError\u001b[0m                       Traceback (most recent call last)",
      "\u001b[0;32m<ipython-input-2-843c77e329e2>\u001b[0m in \u001b[0;36m<module>\u001b[0;34m\u001b[0m\n\u001b[1;32m      1\u001b[0m \u001b[0mget_ipython\u001b[0m\u001b[0;34m(\u001b[0m\u001b[0;34m)\u001b[0m\u001b[0;34m.\u001b[0m\u001b[0mrun_line_magic\u001b[0m\u001b[0;34m(\u001b[0m\u001b[0;34m'matplotlib'\u001b[0m\u001b[0;34m,\u001b[0m \u001b[0;34m'inline'\u001b[0m\u001b[0;34m)\u001b[0m\u001b[0;34m\u001b[0m\u001b[0;34m\u001b[0m\u001b[0m\n\u001b[0;32m----> 2\u001b[0;31m \u001b[0;32mfrom\u001b[0m \u001b[0maian\u001b[0m\u001b[0;34m.\u001b[0m\u001b[0mmain\u001b[0m \u001b[0;32mimport\u001b[0m \u001b[0mAIan\u001b[0m\u001b[0;34m\u001b[0m\u001b[0;34m\u001b[0m\u001b[0m\n\u001b[0m\u001b[1;32m      3\u001b[0m \u001b[0maian\u001b[0m \u001b[0;34m=\u001b[0m \u001b[0mAIan\u001b[0m\u001b[0;34m(\u001b[0m\u001b[0;34m'aian2.cfg'\u001b[0m\u001b[0;34m)\u001b[0m\u001b[0;34m\u001b[0m\u001b[0;34m\u001b[0m\u001b[0m\n\u001b[1;32m      4\u001b[0m \u001b[0maian\u001b[0m\u001b[0;34m.\u001b[0m\u001b[0mstart\u001b[0m\u001b[0;34m(\u001b[0m\u001b[0;34m)\u001b[0m\u001b[0;34m\u001b[0m\u001b[0;34m\u001b[0m\u001b[0m\n\u001b[1;32m      5\u001b[0m \u001b[0;32mfrom\u001b[0m \u001b[0mIPython\u001b[0m\u001b[0;34m.\u001b[0m\u001b[0mdisplay\u001b[0m \u001b[0;32mimport\u001b[0m \u001b[0mdisplay\u001b[0m\u001b[0;34m,\u001b[0m \u001b[0mJavascript\u001b[0m\u001b[0;34m\u001b[0m\u001b[0;34m\u001b[0m\u001b[0m\n",
      "\u001b[0;31mModuleNotFoundError\u001b[0m: No module named 'aian'"
     ]
    }
   ],
   "source": [
    "%matplotlib inline\n",
    "from aian.main import AIan\n",
    "aian = AIan('aian2.cfg')\n",
    "aian.start()\n",
    "from IPython.display import display, Javascript\n",
    "display(Javascript(\"hide_cell_input()\"))"
   ]
  },
  {
   "cell_type": "code",
   "execution_count": 2,
   "metadata": {},
   "outputs": [
    {
     "data": {
      "text/html": [
       "<style>.container { width:100% !important; }</style>"
      ],
      "text/plain": [
       "<IPython.core.display.HTML object>"
      ]
     },
     "metadata": {},
     "output_type": "display_data"
    }
   ],
   "source": [
    "from IPython.core.display import display, HTML\n",
    "display(HTML(\"<style>.container { width:100% !important; }</style>\"))"
   ]
  },
  {
   "cell_type": "code",
   "execution_count": 27,
   "metadata": {},
   "outputs": [
    {
     "data": {
      "text/html": [
       "<style>\n",
       "div.prompt {\n",
       "    min-width: 1ex;\n",
       "    width: 30px;\n",
       "}\n",
       "div#notebook_panel {\n",
       "  background-color: black;\n",
       "}\n",
       "</style>\n"
      ],
      "text/plain": [
       "<IPython.core.display.HTML object>"
      ]
     },
     "metadata": {},
     "output_type": "display_data"
    }
   ],
   "source": [
    "%%html\n",
    "<style>\n",
    "div.prompt {\n",
    "    min-width: 1ex;\n",
    "    width: 30px;\n",
    "}\n",
    "div#notebook_panel {\n",
    "  background-color: black;\n",
    "}\n",
    "</style>"
   ]
  },
  {
   "cell_type": "code",
   "execution_count": 2,
   "metadata": {},
   "outputs": [],
   "source": [
    "import ipywidgets as widgets\n",
    "from traitlets import Unicode, Dict"
   ]
  },
  {
   "cell_type": "code",
   "execution_count": 3,
   "metadata": {},
   "outputs": [],
   "source": [
    "class QuoteWidget(widgets.DOMWidget):\n",
    "    _view_name = Unicode('QuoteView').tag(sync=True)\n",
    "    _view_module = Unicode('Quote').tag(sync=True)\n",
    "    _view_module_version = Unicode('0.1.0').tag(sync=True)\n",
    "    payload = Dict().tag(sync=True)\n",
    "    status = Unicode(\"\").tag(sync=True)\n",
    "    name = Unicode(\"Quote1\").tag(sync=True)"
   ]
  },
  {
   "cell_type": "code",
   "execution_count": 4,
   "metadata": {},
   "outputs": [
    {
     "data": {
      "text/html": [
       "<style>\n",
       "    .update {\n",
       "        color: yellow;\n",
       "    }\n",
       "    .arrow-up {\n",
       "        vertical-align: top;\n",
       "    }\n",
       "    .arrow-down {\n",
       "        vertical-align: middle;\n",
       "    }\n",
       "    .quote_label {\n",
       "        color: DeepSkyBlue;\n",
       "    }\n",
       "    .quote_label1 {\n",
       "        color: DeepSkyBlue;\n",
       "        padding-right: 2em;\n",
       "    }\n",
       "    .quote_box {\n",
       "        width: 800px;\n",
       "        font-size: 12px;\n",
       "        color: white;\n",
       "        background: #303030;\n",
       "        border: 2px solid DarkBlue;\n",
       "    }\n",
       "    .quote_title {\n",
       "        font-size: 20px;\n",
       "        color: DodgerBlue;\n",
       "        font-weight: bold;\n",
       "        background: #202020;\n",
       "        height: 50px;\n",
       "        align-items: center;\n",
       "        display: flex;\n",
       "    }\n",
       "    .quote_header {\n",
       "        font-size: 14px;\n",
       "        color: #99ff66;\n",
       "        font-weight: bold;\n",
       "    }\n",
       "    .quote_trade_price1 {\n",
       "        font-size: 13px;\n",
       "        font-weight: bold;\n",
       "    }\n",
       "    .quote_footer {\n",
       "        font-size: 14px;\n",
       "        color: DodgerBlue;\n",
       "        font-weight: bold;\n",
       "        background: #202020;\n",
       "        height: 50px;\n",
       "        align-items: center;\n",
       "        display: flex;\n",
       "        margin-top: 1em;\n",
       "    }\n",
       "</style>\n",
       "\n",
       "<script type=\"text/template\" id=\"quote-template\">\n",
       "    <div class=\"container quote_box\">\n",
       "        <div class=\"row quote_title\">\n",
       "            <div>\n",
       "                <span data-field=\"X_RIC_NAME\"></span> Quote\n",
       "            </div>\n",
       "        </div>\n",
       "        <div class=\"row quote_header\">\n",
       "            <div class=\"col-xs-2\" data-field=\"X_RIC_NAME\">&nbsp;</div>\n",
       "            <div class=\"col-xs-3\" data-field=\"DSPLY_NAME\">&nbsp;</div>\n",
       "            <div class=\"col-xs-1\" data-field=\"RDN_EXCHD2\">&nbsp;</div>\n",
       "            <div class=\"col-xs-1\" data-field=\"CURRENCY\">&nbsp;</div>\n",
       "            <div class=\"col-xs-2 text-center\">GMT</div>\n",
       "            <div class=\"col-xs-2\" data-field=\"TRADE_DATE\" on_mouse_over>&nbsp;</div>\n",
       "        </div>\n",
       "        <div class=\"row\">\n",
       "            <div class=\"col-xs-1 quote_label\">Last</div>\n",
       "            <div class=\"col-xs-1 quote_label\">Volume</div>\n",
       "            <div class=\"col-xs-1 quote_label\">Trd. Time</div>\n",
       "            <div class=\"col-xs-2 quote_label\">Net Change (%)</div>\n",
       "            <div class=\"col-xs-1 quote_label text-center\">Bid Size</div>\n",
       "            <div class=\"col-xs-1 quote_label text-center\">Bid</div>\n",
       "            <div class=\"col-xs-1 quote_label text-center\">Ask</div>\n",
       "            <div class=\"col-xs-1 quote_label text-center\">Ask Size</div>\n",
       "            <div class=\"col-xs-1 quote_label text-center\">Quote Time</div>\n",
       "        </div>\n",
       "\n",
       "        <div class=\"row\">\n",
       "            <div class=\"col-xs-1\">\n",
       "                <span data-field=\"TRDPRC_1\" class=\"quote_trade_price1\" data-ripple=\"TRDPRC_2\" data-animated></span>\n",
       "                <span class=\"fa fa-arrow-up fa-lg text-success arrow-up\" data-field=\"PRCTCK_1\"\n",
       "                      data-value='{\"1\":\"fa fa-arrow-up fa-lg text-success arrow-up\", \"2\":\"fa fa-arrow-down fa-lg text-danger arrow-down\"}'>\n",
       "                </span>\n",
       "            </div>\n",
       "            <div class=\"col-xs-1 text-center\" data-field=\"TRDVOL_1\" data-animated></div>\n",
       "            <div class=\"col-xs-1\" data-field=\"TRDTIM_1\" data-animated></div>\n",
       "            <div class=\"col-xs-2\">\n",
       "                <span data-field=\"NETCHNG_1\" data-animated> - </span>\n",
       "                (<span data-field=\"PCTCHNG\" data-animated>-</span> %)\n",
       "            </div>\n",
       "            <div class=\"col-xs-1 text-center\" data-field=\"BIDSIZE\" data-animated></div>\n",
       "            <div class=\"col-xs-1 text-center\" data-field=\"BID\" data-animated></div>\n",
       "            <div class=\"col-xs-1 text-center\" data-field=\"ASK\" data-animated></div>\n",
       "            <div class=\"col-xs-1 text-center\" data-field=\"ASKSIZE\" data-animated></div>\n",
       "            <div class=\"col-xs-1 text-center\" data-field=\"QUOTIM\" data-animated></div>\n",
       "        </div>\n",
       "        <div class=\"row\">\n",
       "            <div data-field=\"TRDPRC_2\" class=\"col-xs-1\" data-ripple=\"TRDPRC_3\" data-animated></div>\n",
       "            <div class=\"col-xs-1 quote_label1 text-right\" data-animated>Open</div>\n",
       "            <div data-field=\"OPEN_PRC\" class=\"col-xs-1\"></div>\n",
       "            <div class=\"col-xs-2 quote_label1 text-right\">Acc. Volume</div>\n",
       "            <div data-field=\"ACVOL_1\" class=\"col-xs-2 \" data-animated></div>\n",
       "            <div class=\"col-xs-2 quote_label1 text-right\">VWAP</div>\n",
       "            <div data-field=\"VWAP\" class=\"col-xs-1\" data-animated></div>\n",
       "        </div>\n",
       "        <div class=\"row\">\n",
       "            <div data-field=\"TRDPRC_3\" class=\"col-xs-1\" data-ripple=\"TRDPRC_4\" data-animated></div>\n",
       "            <div class=\"col-xs-1 quote_label1 text-right\" data-animated>High</div>\n",
       "            <div data-field=\"HIGH_1\" class=\"col-xs-1\"></div>\n",
       "            <div class=\"col-xs-2 quote_label1 text-right\">52W. High</div>\n",
       "            <div data-field=\"52WK_HIGH\" class=\"col-xs-2 \" data-animated></div>\n",
       "            <div class=\"col-xs-2 quote_label1 text-right\">Turnover</div>\n",
       "            <div data-field=\"TURNOVER\" class=\"col-xs-1\" data-animated></div>\n",
       "        </div>\n",
       "        <div class=\"row\">\n",
       "            <div data-field=\"TRDPRC_4\" class=\"col-xs-1\" data-ripple=\"TRDPRC_5\" data-animated></div>\n",
       "            <div class=\"col-xs-1 quote_label1 text-right\" data-animated>Low</div>\n",
       "            <div data-field=\"LOW_1\" class=\"col-xs-1\"></div>\n",
       "            <div class=\"col-xs-2 quote_label1 text-right\">52W. Low</div>\n",
       "            <div data-field=\"52WK_LOW\" class=\"col-xs-2 \" data-animated></div>\n",
       "            <div class=\"col-xs-2 quote_label1 text-right\">ESP</div>\n",
       "            <div data-field=\"EARNINGS\" class=\"col-xs-1\" data-animated></div>\n",
       "        </div>\n",
       "        <div class=\"row\">\n",
       "            <div data-field=\"TRDPRC_5\" class=\"col-xs-1\" data-animated></div>\n",
       "            <div class=\"col-xs-1 quote_label1 text-right\" data-animated>Close</div>\n",
       "            <div data-field=\"HST_CLOSE\" class=\"col-xs-1\"></div>\n",
       "            <div class=\"col-xs-2 quote_label1 text-right\">Adj. Close</div>\n",
       "            <div data-field=\"ADJUST_CLS\" class=\"col-xs-2 \" data-animated></div>\n",
       "            <div class=\"col-xs-2 quote_label1 text-right\">PE</div>\n",
       "            <div data-field=\"PERATIO\" class=\"col-xs-1\" data-animated></div>\n",
       "        </div>\n",
       "        <div class=\"row quote_footer\">\n",
       "            <div class=\"col-xs-1\">Status:</div>\n",
       "            <div class=\"col-xs-11\" data-field=\"status_text\"></div>\n",
       "        </div>\n",
       "    </div>\n",
       "</script>\n"
      ],
      "text/plain": [
       "<IPython.core.display.HTML object>"
      ]
     },
     "metadata": {},
     "output_type": "display_data"
    }
   ],
   "source": [
    "%%html\n",
    "<style>\n",
    "    .update {\n",
    "        color: yellow;\n",
    "    }\n",
    "    .arrow-up {\n",
    "        vertical-align: top;\n",
    "    }\n",
    "    .arrow-down {\n",
    "        vertical-align: middle;\n",
    "    }\n",
    "    .quote_label {\n",
    "        color: DeepSkyBlue;\n",
    "    }\n",
    "    .quote_label1 {\n",
    "        color: DeepSkyBlue;\n",
    "        padding-right: 2em;\n",
    "    }\n",
    "    .quote_box {\n",
    "        width: 800px;\n",
    "        font-size: 12px;\n",
    "        color: white;\n",
    "        background: #303030;\n",
    "        border: 2px solid DarkBlue;\n",
    "    }\n",
    "    .quote_title {\n",
    "        font-size: 20px;\n",
    "        color: DodgerBlue;\n",
    "        font-weight: bold;\n",
    "        background: #202020;\n",
    "        height: 50px;\n",
    "        align-items: center;\n",
    "        display: flex;\n",
    "    }\n",
    "    .quote_header {\n",
    "        font-size: 14px;\n",
    "        color: #99ff66;\n",
    "        font-weight: bold;\n",
    "    }\n",
    "    .quote_trade_price1 {\n",
    "        font-size: 13px;\n",
    "        font-weight: bold;\n",
    "    }\n",
    "    .quote_footer {\n",
    "        font-size: 14px;\n",
    "        color: DodgerBlue;\n",
    "        font-weight: bold;\n",
    "        background: #202020;\n",
    "        height: 50px;\n",
    "        align-items: center;\n",
    "        display: flex;\n",
    "        margin-top: 1em;\n",
    "    }\n",
    "</style>\n",
    "\n",
    "<script type=\"text/template\" id=\"quote-template\">\n",
    "    <div class=\"container quote_box\">\n",
    "        <div class=\"row quote_title\">\n",
    "            <div>\n",
    "                <span data-field=\"X_RIC_NAME\"></span> Quote\n",
    "            </div>\n",
    "        </div>\n",
    "        <div class=\"row quote_header\">\n",
    "            <div class=\"col-xs-2\" data-field=\"X_RIC_NAME\">&nbsp;</div>\n",
    "            <div class=\"col-xs-3\" data-field=\"DSPLY_NAME\">&nbsp;</div>\n",
    "            <div class=\"col-xs-1\" data-field=\"RDN_EXCHD2\">&nbsp;</div>\n",
    "            <div class=\"col-xs-1\" data-field=\"CURRENCY\">&nbsp;</div>\n",
    "            <div class=\"col-xs-2 text-center\">GMT</div>\n",
    "            <div class=\"col-xs-2\" data-field=\"TRADE_DATE\" on_mouse_over>&nbsp;</div>\n",
    "        </div>\n",
    "        <div class=\"row\">\n",
    "            <div class=\"col-xs-1 quote_label\">Last</div>\n",
    "            <div class=\"col-xs-1 quote_label\">Volume</div>\n",
    "            <div class=\"col-xs-1 quote_label\">Trd. Time</div>\n",
    "            <div class=\"col-xs-2 quote_label\">Net Change (%)</div>\n",
    "            <div class=\"col-xs-1 quote_label text-center\">Bid Size</div>\n",
    "            <div class=\"col-xs-1 quote_label text-center\">Bid</div>\n",
    "            <div class=\"col-xs-1 quote_label text-center\">Ask</div>\n",
    "            <div class=\"col-xs-1 quote_label text-center\">Ask Size</div>\n",
    "            <div class=\"col-xs-1 quote_label text-center\">Quote Time</div>\n",
    "        </div>\n",
    "\n",
    "        <div class=\"row\">\n",
    "            <div class=\"col-xs-1\">\n",
    "                <span data-field=\"TRDPRC_1\" class=\"quote_trade_price1\" data-ripple=\"TRDPRC_2\" data-animated></span>\n",
    "                <span class=\"fa fa-arrow-up fa-lg text-success arrow-up\" data-field=\"PRCTCK_1\"\n",
    "                      data-value='{\"1\":\"fa fa-arrow-up fa-lg text-success arrow-up\", \"2\":\"fa fa-arrow-down fa-lg text-danger arrow-down\"}'>\n",
    "                </span>\n",
    "            </div>\n",
    "            <div class=\"col-xs-1 text-center\" data-field=\"TRDVOL_1\" data-animated></div>\n",
    "            <div class=\"col-xs-1\" data-field=\"TRDTIM_1\" data-animated></div>\n",
    "            <div class=\"col-xs-2\">\n",
    "                <span data-field=\"NETCHNG_1\" data-animated> - </span>\n",
    "                (<span data-field=\"PCTCHNG\" data-animated>-</span> %)\n",
    "            </div>\n",
    "            <div class=\"col-xs-1 text-center\" data-field=\"BIDSIZE\" data-animated></div>\n",
    "            <div class=\"col-xs-1 text-center\" data-field=\"BID\" data-animated></div>\n",
    "            <div class=\"col-xs-1 text-center\" data-field=\"ASK\" data-animated></div>\n",
    "            <div class=\"col-xs-1 text-center\" data-field=\"ASKSIZE\" data-animated></div>\n",
    "            <div class=\"col-xs-1 text-center\" data-field=\"QUOTIM\" data-animated></div>\n",
    "        </div>\n",
    "        <div class=\"row\">\n",
    "            <div data-field=\"TRDPRC_2\" class=\"col-xs-1\" data-ripple=\"TRDPRC_3\" data-animated></div>\n",
    "            <div class=\"col-xs-1 quote_label1 text-right\" data-animated>Open</div>\n",
    "            <div data-field=\"OPEN_PRC\" class=\"col-xs-1\"></div>\n",
    "            <div class=\"col-xs-2 quote_label1 text-right\">Acc. Volume</div>\n",
    "            <div data-field=\"ACVOL_1\" class=\"col-xs-2 \" data-animated></div>\n",
    "            <div class=\"col-xs-2 quote_label1 text-right\">VWAP</div>\n",
    "            <div data-field=\"VWAP\" class=\"col-xs-1\" data-animated></div>\n",
    "        </div>\n",
    "        <div class=\"row\">\n",
    "            <div data-field=\"TRDPRC_3\" class=\"col-xs-1\" data-ripple=\"TRDPRC_4\" data-animated></div>\n",
    "            <div class=\"col-xs-1 quote_label1 text-right\" data-animated>High</div>\n",
    "            <div data-field=\"HIGH_1\" class=\"col-xs-1\"></div>\n",
    "            <div class=\"col-xs-2 quote_label1 text-right\">52W. High</div>\n",
    "            <div data-field=\"52WK_HIGH\" class=\"col-xs-2 \" data-animated></div>\n",
    "            <div class=\"col-xs-2 quote_label1 text-right\">Turnover</div>\n",
    "            <div data-field=\"TURNOVER\" class=\"col-xs-1\" data-animated></div>\n",
    "        </div>\n",
    "        <div class=\"row\">\n",
    "            <div data-field=\"TRDPRC_4\" class=\"col-xs-1\" data-ripple=\"TRDPRC_5\" data-animated></div>\n",
    "            <div class=\"col-xs-1 quote_label1 text-right\" data-animated>Low</div>\n",
    "            <div data-field=\"LOW_1\" class=\"col-xs-1\"></div>\n",
    "            <div class=\"col-xs-2 quote_label1 text-right\">52W. Low</div>\n",
    "            <div data-field=\"52WK_LOW\" class=\"col-xs-2 \" data-animated></div>\n",
    "            <div class=\"col-xs-2 quote_label1 text-right\">ESP</div>\n",
    "            <div data-field=\"EARNINGS\" class=\"col-xs-1\" data-animated></div>\n",
    "        </div>\n",
    "        <div class=\"row\">\n",
    "            <div data-field=\"TRDPRC_5\" class=\"col-xs-1\" data-animated></div>\n",
    "            <div class=\"col-xs-1 quote_label1 text-right\" data-animated>Close</div>\n",
    "            <div data-field=\"HST_CLOSE\" class=\"col-xs-1\"></div>\n",
    "            <div class=\"col-xs-2 quote_label1 text-right\">Adj. Close</div>\n",
    "            <div data-field=\"ADJUST_CLS\" class=\"col-xs-2 \" data-animated></div>\n",
    "            <div class=\"col-xs-2 quote_label1 text-right\">PE</div>\n",
    "            <div data-field=\"PERATIO\" class=\"col-xs-1\" data-animated></div>\n",
    "        </div>\n",
    "        <div class=\"row quote_footer\">\n",
    "            <div class=\"col-xs-1\">Status:</div>\n",
    "            <div class=\"col-xs-11\" data-field=\"status_text\"></div>\n",
    "        </div>\n",
    "    </div>\n",
    "</script>"
   ]
  },
  {
   "cell_type": "code",
   "execution_count": 68,
   "metadata": {},
   "outputs": [
    {
     "data": {
      "application/javascript": [
       "function check_ripple(name, field){\n",
       "    var ripple_fieldname = field.data(\"ripple\");\n",
       "    if (ripple_fieldname != undefined){\n",
       "        var ripple_field = $(\"#\"+name+\" [data-field=\"+ripple_fieldname+\"]\");\n",
       "        check_ripple(name, ripple_field);        \n",
       "        ripple_field.text(field.text());\n",
       "    }\n",
       "}\n",
       "require.undef('Quote');\n",
       "define('Quote', [\"@jupyter-widgets/base\"],\n",
       "       function(widgets){\n",
       "           \n",
       "            var QuoteView = widgets.DOMWidgetView.extend({\n",
       "                template: _.template($(\"#quote-template\").html()),\n",
       "                render: function(){\n",
       "                    var name = this.model.get('name');\n",
       "                    this.model.on('change:payload',this.payload_changed, this);\n",
       "                    this.model.on('change:status',this.status_changed, this);\n",
       "                    this.div = $('<div/>',{id: name}).append(this.template);\n",
       "                    $(this.el).append(this.div);\n",
       "                },\n",
       "                status_changed: function(){                    \n",
       "                    var status_text = this.model.get('status');\n",
       "                    var name = this.model.get('name');\n",
       "                    var statusField = $(\"#\"+name+\" [data-field=status_text]\");                    \n",
       "                    statusField.text(status_text);\n",
       "                    \n",
       "                },\n",
       "                payload_changed: function(){                   \n",
       "                    var payload = this.model.get('payload');                   \n",
       "                    var name = this.model.get('name');\n",
       "                    Object.getOwnPropertyNames(payload).forEach(\n",
       "                        (value, index, array)=>\n",
       "                        {                            \n",
       "                            var updatedField = $(\"#\"+name+\" [data-field=\"+value+\"]\");                            \n",
       "                            check_ripple(name, updatedField);\n",
       "                            \n",
       "                            if(updatedField.data('value')!=undefined){\n",
       "                                var selvalue = updatedField.data('value');                                \n",
       "                                updatedField.removeClass().addClass(selvalue[payload[value]]);\n",
       "                                \n",
       "                                \n",
       "                            }else{\n",
       "                                updatedField.text(payload[value]);\n",
       "                            }\n",
       "                            \n",
       "                            if(updatedField.data('animated')!=undefined){\n",
       "                            \n",
       "                                updatedField.addClass('update');\n",
       "                                setTimeout(function() { \n",
       "                                    updatedField.removeClass('update');\n",
       "                                }, 1000);\n",
       "                            }                            \n",
       "                        });             \n",
       "                }\n",
       "            });\n",
       "    \n",
       "    return{\n",
       "      QuoteView: QuoteView  \n",
       "    };\n",
       "    \n",
       "});\n"
      ],
      "text/plain": [
       "<IPython.core.display.Javascript object>"
      ]
     },
     "metadata": {},
     "output_type": "display_data"
    }
   ],
   "source": [
    "\n",
    "%%javascript          \n",
    "function check_ripple(name, field){\n",
    "    var ripple_fieldname = field.data(\"ripple\");\n",
    "    if (ripple_fieldname != undefined){\n",
    "        var ripple_field = $(\"#\"+name+\" [data-field=\"+ripple_fieldname+\"]\");\n",
    "        check_ripple(name, ripple_field);        \n",
    "        ripple_field.text(field.text());\n",
    "    }\n",
    "}\n",
    "require.undef('Quote');\n",
    "define('Quote', [\"@jupyter-widgets/base\"],\n",
    "       function(widgets){\n",
    "           \n",
    "            var QuoteView = widgets.DOMWidgetView.extend({\n",
    "                template: _.template($(\"#quote-template\").html()),\n",
    "                render: function(){\n",
    "                    var name = this.model.get('name');\n",
    "                    this.model.on('change:payload',this.payload_changed, this);\n",
    "                    this.model.on('change:status',this.status_changed, this);\n",
    "                    this.div = $('<div/>',{id: name}).append(this.template);\n",
    "                    $(this.el).append(this.div);\n",
    "                },\n",
    "                status_changed: function(){                    \n",
    "                    var status_text = this.model.get('status');\n",
    "                    var name = this.model.get('name');\n",
    "                    var statusField = $(\"#\"+name+\" [data-field=status_text]\");                    \n",
    "                    statusField.text(status_text);\n",
    "                    \n",
    "                },\n",
    "                payload_changed: function(){                   \n",
    "                    var payload = this.model.get('payload');                   \n",
    "                    var name = this.model.get('name');\n",
    "                    Object.getOwnPropertyNames(payload).forEach(\n",
    "                        (value, index, array)=>\n",
    "                        {                            \n",
    "                            var updatedField = $(\"#\"+name+\" [data-field=\"+value+\"]\");                            \n",
    "                            check_ripple(name, updatedField);\n",
    "                            \n",
    "                            if(updatedField.data('value')!=undefined){\n",
    "                                var selvalue = updatedField.data('value');                                \n",
    "                                updatedField.removeClass().addClass(selvalue[payload[value]]);\n",
    "                                \n",
    "                                \n",
    "                            }else{\n",
    "                                updatedField.text(payload[value]);\n",
    "                            }\n",
    "                            \n",
    "                            if(updatedField.data('animated')!=undefined){\n",
    "                            \n",
    "                                updatedField.addClass('update');\n",
    "                                setTimeout(function() { \n",
    "                                    updatedField.removeClass('update');\n",
    "                                }, 1000);\n",
    "                            }                            \n",
    "                        });             \n",
    "                }\n",
    "            });\n",
    "    \n",
    "    return{\n",
    "      QuoteView: QuoteView  \n",
    "    };\n",
    "    \n",
    "});"
   ]
  },
  {
   "cell_type": "code",
   "execution_count": 69,
   "metadata": {},
   "outputs": [],
   "source": [
    "q = QuoteWidget()"
   ]
  },
  {
   "cell_type": "code",
   "execution_count": 70,
   "metadata": {},
   "outputs": [
    {
     "data": {
      "application/vnd.jupyter.widget-view+json": {
       "model_id": "be05e62ab8804dd8aad413f7d7a943d4",
       "version_major": 2,
       "version_minor": 0
      },
      "text/plain": [
       "QuoteWidget()"
      ]
     },
     "metadata": {},
     "output_type": "display_data"
    }
   ],
   "source": [
    "q"
   ]
  },
  {
   "cell_type": "code",
   "execution_count": 135,
   "metadata": {},
   "outputs": [],
   "source": [
    "q.payload = {'DSPLY_NAME': 'BANGKOK DUSIT ME1', 'RDN_EXCHD2': 'SET', 'CURRENCY': 'THB', 'NETCHNG_1': -0.1, 'PCTCHNG': -0.47, 'TRDVOL_1': 1000, 'TRADE_DATE': '2021-01-18', 'TRDTIM_1': '08:19:41', 'TRDPRC_1': 21.3, 'TRDPRC_2': 21.3, 'TRDPRC_3': 21.2, 'TRDPRC_4': 21.3, 'TRDPRC_5': 21.3, 'PRCTCK_1': 1, 'BID': 21.2, 'BIDSIZE': 585900, 'ASK': 21.3, 'ASKSIZE': 936900, 'OPEN_PRC': 21.4, 'ACVOL_1': 17884500, 'VWAP': 21.2084, 'VWAP_VOL': 17884500, 'HIGH_1': 21.5, '52WK_HIGH': 26.5, 'TURNOVER': 379301.91, 'LOW_1': 21.1, '52WK_LOW': 15.6, 'PERATIO': 47.58, 'HST_CLOSE': 21.4, 'ADJUST_CLS': 21.4, 'EARNINGS': 0.4498, 'QUOTIM': '08:19:55', 'SEQNUM': 3690282, 'X_RIC_NAME': 'BDMS.BK'}\n",
    "q.status='OK'"
   ]
  },
  {
   "cell_type": "code",
   "execution_count": 50,
   "metadata": {},
   "outputs": [
    {
     "data": {
      "application/javascript": [
       "var name = 'abc';\n",
       "var k = $('hello#abc');\n",
       "var xx =  $('<div/>',{id: name});\n",
       "xx.append('hi there');\n",
       "xx.onclick( function() {alert('hi')});\n",
       "//alert(xx.html())\n",
       "k.append(xx)\n",
       "alert(k.html())\n"
      ],
      "text/plain": [
       "<IPython.core.display.Javascript object>"
      ]
     },
     "metadata": {},
     "output_type": "display_data"
    }
   ],
   "source": [
    "%%javascript\n",
    "var name = 'abc';\n",
    "var k = $('hello#abc');\n",
    "var xx =  $('<div/>',{id: name});\n",
    "xx.append('hi there');\n",
    "xx.onclick( function() {alert('hi')});\n",
    "//alert(xx.html())\n",
    "k.append(xx)\n",
    "alert(k.html())"
   ]
  },
  {
   "cell_type": "code",
   "execution_count": 51,
   "metadata": {},
   "outputs": [
    {
     "data": {
      "text/html": [
       "<div id='abc' style=\"background-color:blue; color: yellow; border-radius: 10px\">good to see you<br>My name is Unknown</div>\n"
      ],
      "text/plain": [
       "<IPython.core.display.HTML object>"
      ]
     },
     "metadata": {},
     "output_type": "display_data"
    }
   ],
   "source": [
    "%%html\n",
    "<div id='abc' style=\"background-color:blue; color: yellow; border-radius: 10px\">good to see you<br>My name is Unknown</div>"
   ]
  },
  {
   "cell_type": "code",
   "execution_count": 52,
   "metadata": {},
   "outputs": [
    {
     "data": {
      "application/javascript": [
       "var abc = $('div#abc');\n",
       "abc.on('click', function() { this.style.textAlign='center'; this.style.borderRadius='10px'; this.style.color='red'; this.style.backgroundColor='black'; alert('hahaha') })\n"
      ],
      "text/plain": [
       "<IPython.core.display.Javascript object>"
      ]
     },
     "metadata": {},
     "output_type": "display_data"
    }
   ],
   "source": [
    "%%javascript\n",
    "var abc = $('div#abc');\n",
    "abc.on('click', function() { this.style.textAlign='center'; this.style.borderRadius='10px'; this.style.color='red'; this.style.backgroundColor='black'; alert('hahaha') })"
   ]
  },
  {
   "cell_type": "code",
   "execution_count": 18,
   "metadata": {},
   "outputs": [],
   "source": [
    "from aian.app.widgets import widgets as aianwgts"
   ]
  },
  {
   "cell_type": "code",
   "execution_count": 13,
   "metadata": {},
   "outputs": [],
   "source": [
    "ax = aianwgts.AianButton('ABC', {'event': 'xxx', 'style': 'color:red', 'clazz':'xx'}, lambda change: print(change))"
   ]
  },
  {
   "cell_type": "code",
   "execution_count": 7,
   "metadata": {},
   "outputs": [
    {
     "data": {
      "text/plain": [
       "<module 'aian.app.widgets.widgets' from '/home/naihil/Libraries/custom/python/aian/app/widgets/widgets.py'>"
      ]
     },
     "execution_count": 7,
     "metadata": {},
     "output_type": "execute_result"
    }
   ],
   "source": [
    "aianwgts"
   ]
  },
  {
   "cell_type": "code",
   "execution_count": 9,
   "metadata": {},
   "outputs": [],
   "source": [
    "import ipywidgets as widgets"
   ]
  },
  {
   "cell_type": "code",
   "execution_count": 14,
   "metadata": {},
   "outputs": [
    {
     "data": {
      "application/vnd.jupyter.widget-view+json": {
       "model_id": "747cb04a11e448988a1d50eb4f7b10c1",
       "version_major": 2,
       "version_minor": 0
      },
      "text/plain": [
       "AianButton(config={'event': 'xxx', 'style': 'color:red', 'clazz': 'xx'}, label='ABC')"
      ]
     },
     "metadata": {},
     "output_type": "display_data"
    }
   ],
   "source": [
    "from IPython.display import display, HTML\n",
    "display(ax)"
   ]
  },
  {
   "cell_type": "code",
   "execution_count": 16,
   "metadata": {},
   "outputs": [
    {
     "data": {
      "text/plain": [
       "{'event': 'xxx', 'style': 'color:red', 'clazz': 'xx'}"
      ]
     },
     "execution_count": 16,
     "metadata": {},
     "output_type": "execute_result"
    }
   ],
   "source": [
    "ax.config"
   ]
  },
  {
   "cell_type": "code",
   "execution_count": 22,
   "metadata": {},
   "outputs": [
    {
     "data": {
      "text/html": [
       "<hellox>xxx</hellox>"
      ],
      "text/plain": [
       "<IPython.core.display.HTML object>"
      ]
     },
     "metadata": {},
     "output_type": "display_data"
    },
    {
     "data": {
      "application/vnd.jupyter.widget-view+json": {
       "model_id": "58611909296c4aae9315ff5fe063948d",
       "version_major": 2,
       "version_minor": 0
      },
      "text/plain": [
       "HBox(children=(AianButton(config={'event': 'def'}, label='CDEFGHIJKLMN'), AianButton(config={'event': '123', '…"
      ]
     },
     "metadata": {},
     "output_type": "display_data"
    }
   ],
   "source": [
    "from aian.app.widgets import widgets as aianwgts\n",
    "from IPython.display import display, HTML\n",
    "import ipywidgets as widgets\n",
    "display(HTML('<hellox>xxx</hellox>'))\n",
    "def dummy_handler(change):\n",
    "    owner = change['owner']\n",
    "    print(owner.config, owner.config['event'])\n",
    "w = aianwgts.AianButton('CDEFGHIJKLMN', {'event':'def'}, lambda change: print(change['owner'].config['event']))\n",
    "x = aianwgts.AianButton('멈추시오', {'event':'123', 'class': 'app-header-button', 'style':'color: red; background-color: blue; border-radius:10px; padding:10px; margin:10px;'}, dummy_handler)\n",
    "y = aianwgts.AianButton('노래를 불러 보시오', {'event':'123', 'class': 'app-header-button', 'style':'color: red; background-color: black; border-radius:20px; padding:10px; margin:10px;'}, dummy_handler)\n",
    "z = aianwgts.AianButton('우당탕탕 왁자지껄', {'event':'123', 'class': 'app-header-button', 'style':'color: red; background-color: blue; border-radius:10px; padding:10px; margin:10px;'}, dummy_handler)\n",
    "display(widgets.HBox([w,x,y,z]),layout=widgets.Layout(justify_content=\"space-between\",align_items=\"center\"))"
   ]
  },
  {
   "cell_type": "code",
   "execution_count": null,
   "metadata": {},
   "outputs": [],
   "source": []
  }
 ],
 "metadata": {
  "kernelspec": {
   "display_name": "Python 3",
   "language": "python",
   "name": "python3"
  },
  "language_info": {
   "codemirror_mode": {
    "name": "ipython",
    "version": 3
   },
   "file_extension": ".py",
   "mimetype": "text/x-python",
   "name": "python",
   "nbconvert_exporter": "python",
   "pygments_lexer": "ipython3",
   "version": "3.8.10"
  }
 },
 "nbformat": 4,
 "nbformat_minor": 4
}
