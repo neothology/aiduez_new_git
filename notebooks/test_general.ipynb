{
 "cells": [
  {
   "cell_type": "code",
   "execution_count": 4,
   "id": "ff8c5755",
   "metadata": {},
   "outputs": [],
   "source": [
    "class A:\n",
    "    def __init__(\n",
    "        self,\n",
    "        a = \"a\"\n",
    "    ):\n",
    "        pass\n",
    "    \n",
    "class B(A):\n",
    "    def __init__(\n",
    "        self,\n",
    "        a = \"\"\n",
    "    )"
   ]
  },
  {
   "cell_type": "code",
   "execution_count": 5,
   "id": "f0f6ac17",
   "metadata": {},
   "outputs": [
    {
     "name": "stdout",
     "output_type": "stream",
     "text": [
      "1 2\n"
     ]
    }
   ],
   "source": [
    "b = B(1,b=2)"
   ]
  },
  {
   "cell_type": "code",
   "execution_count": 6,
   "id": "e830e10f",
   "metadata": {},
   "outputs": [
    {
     "ename": "AttributeError",
     "evalue": "'B' object has no attribute 'super'",
     "output_type": "error",
     "traceback": [
      "\u001b[0;31m---------------------------------------------------------------------------\u001b[0m",
      "\u001b[0;31mAttributeError\u001b[0m                            Traceback (most recent call last)",
      "\u001b[0;32m<ipython-input-6-15aee687e7aa>\u001b[0m in \u001b[0;36m<module>\u001b[0;34m\u001b[0m\n\u001b[0;32m----> 1\u001b[0;31m \u001b[0mb\u001b[0m\u001b[0;34m.\u001b[0m\u001b[0msuper\u001b[0m\u001b[0;34m(\u001b[0m\u001b[0;34m)\u001b[0m\u001b[0;34m\u001b[0m\u001b[0;34m\u001b[0m\u001b[0m\n\u001b[0m",
      "\u001b[0;31mAttributeError\u001b[0m: 'B' object has no attribute 'super'"
     ]
    }
   ],
   "source": [
    "b.super()"
   ]
  },
  {
   "cell_type": "code",
   "execution_count": null,
   "id": "506a897d",
   "metadata": {},
   "outputs": [],
   "source": [
    "b"
   ]
  },
  {
   "cell_type": "code",
   "execution_count": 1,
   "id": "9683b2a3",
   "metadata": {},
   "outputs": [],
   "source": [
    "body_items = [0,1]\n",
    "body_size = {'height':['100px', '10px']}\n",
    "border_bottom = [True, False]"
   ]
  },
  {
   "cell_type": "code",
   "execution_count": null,
   "id": "8d29e068",
   "metadata": {},
   "outputs": [],
   "source": []
  },
  {
   "cell_type": "code",
   "execution_count": 6,
   "id": "6fd8f4cc",
   "metadata": {},
   "outputs": [],
   "source": [
    "style = {\n",
    "    'card_body': [  \n",
    "        f\"height:{body_size.get('height')[n]}; \\\n",
    "        overflow-y:auto; \\\n",
    "        padding:0px; margin:0px;\" \\\n",
    "        + f\"{'border-bottom:1px solid #e0e0e0;' if border_bottom[n] else ''}\"\n",
    "        for n in range(len(body_items))\n",
    "    ],\n",
    "}"
   ]
  },
  {
   "cell_type": "code",
   "execution_count": 9,
   "id": "2529cc93",
   "metadata": {},
   "outputs": [
    {
     "data": {
      "text/plain": [
       "'height:10px;         overflow-y:auto;         padding:0px; margin:0px;'"
      ]
     },
     "execution_count": 9,
     "metadata": {},
     "output_type": "execute_result"
    }
   ],
   "source": [
    "style['card_body'][1]"
   ]
  },
  {
   "cell_type": "code",
   "execution_count": 9,
   "id": "2e50d214",
   "metadata": {},
   "outputs": [
    {
     "data": {
      "text/plain": [
       "{'test': 1}"
      ]
     },
     "execution_count": 9,
     "metadata": {},
     "output_type": "execute_result"
    }
   ],
   "source": [
    "a = 'test'\n",
    "b = 1\n",
    "c = {a:b}\n",
    "c"
   ]
  },
  {
   "cell_type": "code",
   "execution_count": 10,
   "id": "4f69c261",
   "metadata": {},
   "outputs": [],
   "source": [
    "x = {'a':1}\n",
    "y = [{'b':2}, {'c':3}]"
   ]
  },
  {
   "cell_type": "code",
   "execution_count": 13,
   "id": "5a3f6a49",
   "metadata": {},
   "outputs": [
    {
     "ename": "TypeError",
     "evalue": "print() argument after ** must be a mapping, not list",
     "output_type": "error",
     "traceback": [
      "\u001b[0;31m---------------------------------------------------------------------------\u001b[0m",
      "\u001b[0;31mTypeError\u001b[0m                                 Traceback (most recent call last)",
      "\u001b[0;32m<ipython-input-13-64935f9a19d6>\u001b[0m in \u001b[0;36m<module>\u001b[0;34m\u001b[0m\n\u001b[0;32m----> 1\u001b[0;31m \u001b[0mprint\u001b[0m\u001b[0;34m(\u001b[0m\u001b[0;34m**\u001b[0m\u001b[0my\u001b[0m\u001b[0;34m)\u001b[0m\u001b[0;34m\u001b[0m\u001b[0;34m\u001b[0m\u001b[0m\n\u001b[0m",
      "\u001b[0;31mTypeError\u001b[0m: print() argument after ** must be a mapping, not list"
     ]
    }
   ],
   "source": [
    "x."
   ]
  },
  {
   "cell_type": "code",
   "execution_count": 14,
   "id": "44830bd8",
   "metadata": {},
   "outputs": [],
   "source": [
    "x = {}"
   ]
  },
  {
   "cell_type": "code",
   "execution_count": 15,
   "id": "0b1b8c8d",
   "metadata": {},
   "outputs": [],
   "source": [
    "z = {'a':1}"
   ]
  },
  {
   "cell_type": "code",
   "execution_count": 16,
   "id": "e288fbe9",
   "metadata": {},
   "outputs": [
    {
     "data": {
      "text/plain": [
       "{'a': 1}"
      ]
     },
     "execution_count": 16,
     "metadata": {},
     "output_type": "execute_result"
    }
   ],
   "source": [
    "x.update(z)\n",
    "x"
   ]
  },
  {
   "cell_type": "code",
   "execution_count": null,
   "id": "0825e551",
   "metadata": {},
   "outputs": [],
   "source": []
  }
 ],
 "metadata": {
  "kernelspec": {
   "display_name": "Python 3",
   "language": "python",
   "name": "python3"
  },
  "language_info": {
   "codemirror_mode": {
    "name": "ipython",
    "version": 3
   },
   "file_extension": ".py",
   "mimetype": "text/x-python",
   "name": "python",
   "nbconvert_exporter": "python",
   "pygments_lexer": "ipython3",
   "version": "3.8.10"
  }
 },
 "nbformat": 4,
 "nbformat_minor": 5
}
