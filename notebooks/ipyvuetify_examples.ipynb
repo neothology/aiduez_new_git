{
 "cells": [
  {
   "cell_type": "code",
   "execution_count": 1,
   "id": "60b0d655",
   "metadata": {},
   "outputs": [],
   "source": [
    "import ipywidgets\n",
    "import ipyvuetify as v\n",
    "from threading import Timer\n",
    "\n",
    "lorum_ipsum = 'Lorem ipsum dolor sit amet, consectetur adipiscing elit, sed do eiusmod tempor incididunt ut labore et dolore magna aliqua. Ut enim ad minim veniam, quis nostrud exercitation ullamco laboris nisi ut aliquip ex ea commodo consequat. Duis aute irure dolor in reprehenderit in voluptate velit esse cillum dolore eu fugiat nulla pariatur. Excepteur sint occaecat cupidatat non proident, sunt in culpa qui officia deserunt mollit anim id est laborum.'"
   ]
  },
  {
   "cell_type": "code",
   "execution_count": 2,
   "id": "e02afb54",
   "metadata": {
    "scrolled": true
   },
   "outputs": [
    {
     "data": {
      "application/vnd.jupyter.widget-view+json": {
       "model_id": "b8785d8e4c614629b99a08d013bcb42e",
       "version_major": 2,
       "version_minor": 0
      },
      "text/plain": [
       "Layout(children=[Btn(children=['button'])], class_='pa-2')"
      ]
     },
     "metadata": {},
     "output_type": "display_data"
    }
   ],
   "source": [
    "count = 0\n",
    "\n",
    "def on_click(widget, event, data):\n",
    "    global count\n",
    "    count += 1\n",
    "    button1.children=['button ' + str(count)]\n",
    "\n",
    "button1 = v.Btn(children=['button'])\n",
    "button1.on_event('click', on_click)\n",
    "\n",
    "v.Layout(class_='pa-2', children=[button1])"
   ]
  },
  {
   "cell_type": "code",
   "execution_count": 3,
   "id": "8949a629",
   "metadata": {},
   "outputs": [
    {
     "data": {
      "application/vnd.jupyter.widget-view+json": {
       "model_id": "d607bbcaee554213b4fa277082190385",
       "version_major": 2,
       "version_minor": 0
      },
      "text/plain": [
       "PlainTable(headers=['name', 'value'], items=[{'name': 'Frozen Yogurt', 'value': 159}, {'name': 'Ice cream sand…"
      ]
     },
     "metadata": {},
     "output_type": "display_data"
    }
   ],
   "source": [
    "import ipyvuetify as v\n",
    "import traitlets\n",
    "\n",
    "\n",
    "class PlainTable(v.VuetifyTemplate):\n",
    "    headers = traitlets.List([]).tag(sync=True, allow_null=True)\n",
    "    items = traitlets.List([]).tag(sync=True, allow_null=True)\n",
    "\n",
    "    @traitlets.default('template')\n",
    "    def _template(self):\n",
    "        return '''\n",
    "            <template>\n",
    "              <v-simple-table>\n",
    "                <template v-slot:default>\n",
    "                  <thead>\n",
    "                    <tr>\n",
    "                      <th \n",
    "                        v-for=\"header in headers\"\n",
    "                        class=\"text-left\"                        \n",
    "                        >\n",
    "                        {{ header }}\n",
    "                      </th>\n",
    "                    </tr>\n",
    "                  </thead>\n",
    "                  <tbody>\n",
    "                    <tr\n",
    "                      v-for=\"item in items\"\n",
    "                      :key=\"item.name\"\n",
    "                    >\n",
    "                      <td>{{ item.name }}</td>\n",
    "                      <td>{{ item.value }}</td>\n",
    "                    </tr>\n",
    "                  </tbody>\n",
    "                </template>\n",
    "              </v-simple-table>\n",
    "            </template>\n",
    "        '''\n",
    "\n",
    "    def __init__(self, headers, items, *args, **kwargs):\n",
    "        super().__init__(*args, **kwargs)\n",
    "        self.headers = headers\n",
    "        self.items = items\n",
    "\n",
    "headers = ['name', 'value']\n",
    "        \n",
    "items = [\n",
    "            {\n",
    "                'name': 'Frozen Yogurt',\n",
    "                'value': 159,\n",
    "            },\n",
    "            {\n",
    "                'name': 'Ice cream sandwich',\n",
    "                'value': 237,\n",
    "            },\n",
    "        ]\n",
    "    \n",
    "p = PlainTable(headers = headers, items = items)\n",
    "p"
   ]
  },
  {
   "cell_type": "code",
   "execution_count": 4,
   "id": "a466f29b",
   "metadata": {},
   "outputs": [
    {
     "data": {
      "application/vnd.jupyter.widget-view+json": {
       "model_id": "34571e5015844bfc8b39db206057feca",
       "version_major": 2,
       "version_minor": 0
      },
      "text/plain": [
       "Layout(children=[Btn(children=['primary'], class_='ma-2', color='primary'), Btn(children=['error'], class_='ma…"
      ]
     },
     "metadata": {},
     "output_type": "display_data"
    }
   ],
   "source": [
    "v.Layout(children=[\n",
    "    v.Btn(color='primary', class_='ma-2', children=['primary']),\n",
    "    v.Btn(color='error', class_='ma-2', children=['error']),\n",
    "    v.Btn(color='pink lighten-4', class_='ma-2', children=['custom']),\n",
    "    v.Btn(color='#654321', dark=True, class_='ma-2', children=['hex']),\n",
    "    v.Btn(color='#654321', disabled=True, class_='ma-2', children=['disabled']),\n",
    "\n",
    "])"
   ]
  },
  {
   "cell_type": "code",
   "execution_count": 5,
   "id": "166b1823",
   "metadata": {},
   "outputs": [
    {
     "data": {
      "application/vnd.jupyter.widget-view+json": {
       "model_id": "82a723bd23cc4f829ef99d0f57545929",
       "version_major": 2,
       "version_minor": 0
      },
      "text/plain": [
       "Layout(children=[Btn(children=['flat'], class_='ma-2', color='primary', text=True), Btn(children=['flat'], cla…"
      ]
     },
     "metadata": {},
     "output_type": "display_data"
    }
   ],
   "source": [
    "v.Layout(children=[\n",
    "    v.Btn(color='primary', text=True, class_='ma-2', children=['flat']),\n",
    "    v.Btn(color='primary', text=True, disabled=True, class_='ma-2', children=['flat']),\n",
    "    v.Btn(color='primary', rounded=True, class_='ma-2', children=['rounded']),\n",
    "    v.Btn(color='primary', rounded=True, class_='ma-2', disabled=True, children=['rounded']),\n",
    "    v.Btn(color='primary', depressed=True, class_='ma-2', children=['depressed']),\n",
    "    v.Btn(color='primary', icon=True, class_='ma-2', children=[v.Icon(children=['mdi-thumb-up'])]),\n",
    "    v.Btn(color='primary', outline=True, class_='ma-2', children=['outline']),\n",
    "])"
   ]
  },
  {
   "cell_type": "code",
   "execution_count": 6,
   "id": "9d9c4ccb",
   "metadata": {},
   "outputs": [
    {
     "data": {
      "application/vnd.jupyter.widget-view+json": {
       "model_id": "ed5c5b7c90a1485f8ad2f1ed912f7763",
       "version_major": 2,
       "version_minor": 0
      },
      "text/plain": [
       "Layout(children=[Btn(children=['small'], class_='ma-2', color='primary', small=True), Btn(children=['normal'],…"
      ]
     },
     "metadata": {},
     "output_type": "display_data"
    }
   ],
   "source": [
    "v.Layout(children=[\n",
    "    v.Btn(color='primary', small=True, class_='ma-2', children=['small']),\n",
    "    v.Btn(color='primary', class_='ma-2', children=['normal']),\n",
    "    v.Btn(color='primary', class_='ma-2', large=True, children=['large']),\n",
    "    v.Btn(color='primary', class_='ma-2', small=True, fab=True, children=[v.Icon(children=['mdi-pencil'])]),\n",
    "    v.Btn(color='primary', class_='ma-2', fab=True, children=[v.Icon(children=['mdi-pencil'])]),\n",
    "    v.Btn(color='primary', class_='ma-2', fab=True, large=True, children=[v.Icon(children=['mdi-pencil'])]),\n",
    "])"
   ]
  },
  {
   "cell_type": "code",
   "execution_count": 7,
   "id": "2ac44edc",
   "metadata": {},
   "outputs": [
    {
     "data": {
      "application/vnd.jupyter.widget-view+json": {
       "model_id": "a6e7e35fac704653a93fb62f9fd06187",
       "version_major": 2,
       "version_minor": 0
      },
      "text/plain": [
       "Layout(children=[Btn(children=['loader'], class_='ma-2', loading=False)])"
      ]
     },
     "metadata": {},
     "output_type": "display_data"
    }
   ],
   "source": [
    "def toggleLoading():\n",
    "    button2.loading = not button2.loading\n",
    "    button2.disabled = button2.loading\n",
    "\n",
    "def on_loader_click(*args):\n",
    "    toggleLoading()\n",
    "    Timer(2.0, toggleLoading).start()\n",
    "    \n",
    "button2 = v.Btn(loading=False, class_='ma-2', children=['loader'])\n",
    "button2.on_event('click', on_loader_click)\n",
    "\n",
    "v.Layout(children=[button2])"
   ]
  },
  {
   "cell_type": "code",
   "execution_count": 6,
   "id": "cdf74fc4",
   "metadata": {},
   "outputs": [
    {
     "data": {
      "application/vnd.jupyter.widget-view+json": {
       "model_id": "111fdb2685be447e80453191181f0db2",
       "version_major": 2,
       "version_minor": 0
      },
      "text/plain": [
       "Layout(children=[BtnToggle(children=[Btn(children=[Icon(children=['mdi-format-align-left'])], text=True), Btn(…"
      ]
     },
     "metadata": {},
     "output_type": "display_data"
    }
   ],
   "source": [
    "toggle_single = v.BtnToggle(v_model=0, class_='mr-3', children=[\n",
    "    v.Btn(text=True, children=[v.Icon(children=['mdi-format-align-left'])]),\n",
    "    v.Btn(text=True, children=[v.Icon(children=['mdi-format-align-center'])]),\n",
    "    v.Btn(text=True, children=[v.Icon(children=['mdi-format-align-right'])]),\n",
    "    v.Btn(text=True, children=[v.Icon(children=['mdi-format-align-justify'])]),\n",
    "])\n",
    "\n",
    "toggle_multi = v.BtnToggle(v_model=[0,2], multiple=True, children=[\n",
    "    v.Btn(text=True, children=[v.Icon(children=['mdi-format-bold'])]),\n",
    "    v.Btn(text=True, children=[v.Icon(children=['mdi-format-italic'])]),\n",
    "    v.Btn(text=True, children=[v.Icon(children=['mdi-format-underline'])]),\n",
    "    v.Btn(text=True, children=[v.Icon(children=['mdi-format-color-fill'])]),\n",
    "])\n",
    "\n",
    "v.Layout(children=[\n",
    "    toggle_single,\n",
    "    toggle_multi,\n",
    "])"
   ]
  },
  {
   "cell_type": "code",
   "execution_count": 9,
   "id": "d0a6a3f6",
   "metadata": {},
   "outputs": [
    {
     "data": {
      "application/vnd.jupyter.widget-view+json": {
       "model_id": "d1e9a8cc831e423ebd258d5f16587bf6",
       "version_major": 2,
       "version_minor": 0
      },
      "text/plain": [
       "Layout(children=[Btn(children=[Icon(children=['mdi-fingerprint'], left=True), 'Icon left'], class_='ma-2', col…"
      ]
     },
     "metadata": {},
     "output_type": "display_data"
    }
   ],
   "source": [
    "v.Layout(children=[\n",
    "    v.Btn(color='primary', class_='ma-2', children=[\n",
    "        v.Icon(left=True, children=['mdi-fingerprint']),\n",
    "        'Icon left'\n",
    "    ]),\n",
    "    v.Btn(color='primary', class_='ma-2', children=[\n",
    "        'Icon right',\n",
    "        v.Icon(right=True, children=['mdi-fingerprint']),\n",
    "    ]),\n",
    "    v.Tooltip(right=True, v_slots=[{\n",
    "        'name': 'activator',\n",
    "        'variable': 'tooltip',\n",
    "        'children': v.Btn(v_on='tooltip.on', color='primary', class_='ma-2', children=[\n",
    "           'tooltip' \n",
    "        ]),\n",
    "    }], children=[\n",
    "        'Insert tooltip text here'\n",
    "    ])    \n",
    "])"
   ]
  },
  {
   "cell_type": "code",
   "execution_count": 10,
   "id": "ba825087",
   "metadata": {},
   "outputs": [
    {
     "data": {
      "application/vnd.jupyter.widget-view+json": {
       "model_id": "5af6516da662438fb8b0c352dac21022",
       "version_major": 2,
       "version_minor": 0
      },
      "text/plain": [
       "Layout(children=[Menu(children=[List(children=[ListItem(children=[ListItemTitle(children=['Click me 1'])]), Li…"
      ]
     },
     "metadata": {},
     "output_type": "display_data"
    }
   ],
   "source": [
    "def on_menu_click(widget, event, data):\n",
    "    if len(layout.children) == 1:\n",
    "        layout.children = layout.children + [info]\n",
    "    info.children=[f'Item {items.index(widget)+1} clicked']\n",
    "    \n",
    "\n",
    "items = [v.ListItem(children=[\n",
    "    v.ListItemTitle(children=[\n",
    "        f'Click me {i}'])]) \n",
    "         for i in range(1, 5)]\n",
    "\n",
    "for item in items:\n",
    "    item.on_event('click', on_menu_click)\n",
    "\n",
    "menu = v.Menu(offset_y=True,\n",
    "    v_slots=[{\n",
    "        'name': 'activator',\n",
    "        'variable': 'menuDta',\n",
    "        'children': v.Btn(v_on='menuDta.on', class_='ma-2', color='primary', children=[\n",
    "            'menu', \n",
    "            v.Icon(right=True, children=[\n",
    "                'mdi-menu-down'\n",
    "            ])\n",
    "        ]),\n",
    "    }]\n",
    "    , \n",
    "    children=[\n",
    "        v.List(children=items)\n",
    "    ]\n",
    ")\n",
    "\n",
    "info = v.Chip(class_='ma-2')\n",
    "\n",
    "layout = v.Layout(children=[\n",
    "    menu\n",
    "])\n",
    "layout"
   ]
  },
  {
   "cell_type": "code",
   "execution_count": 2,
   "id": "c38e523f",
   "metadata": {},
   "outputs": [
    {
     "data": {
      "application/vnd.jupyter.widget-view+json": {
       "model_id": "28590ce60f964397b24c27068fd91904",
       "version_major": 2,
       "version_minor": 0
      },
      "text/plain": [
       "Layout(children=[Dialog(children=[Card(children=[CardTitle(children=['Lorem ipsum'], class_='headline gray lig…"
      ]
     },
     "metadata": {},
     "output_type": "display_data"
    }
   ],
   "source": [
    "dialog_children = [\n",
    "    v.Card(\n",
    "        children=[\n",
    "            v.CardTitle(\n",
    "                class_='headline gray lighten-2', \n",
    "                primary_title=True, \n",
    "                children=[\"Lorem ipsum\"]\n",
    "            ),\n",
    "            v.CardText(\n",
    "                children=[\n",
    "                    lorum_ipsum,\n",
    "                    v.TextField(label='Label', placeholder='Placeholder')\n",
    "                ]\n",
    "            ),\n",
    "        ]\n",
    "    ),\n",
    "]\n",
    "\n",
    "dialog = v.Dialog(\n",
    "    width='500',\n",
    "    v_slots=[\n",
    "#         {\n",
    "#             'name': 'activator',\n",
    "#             'variable': 'x',\n",
    "#             'children': v.Btn(\n",
    "#                 style_= \"color:red !important; border-box:0px 0 10px rgba(255, 255, 255, 0.4) !important;\",\n",
    "#                 v_on='x.on', \n",
    "#                 color='success', \n",
    "#                 dark=True, \n",
    "#                 children=['Open dialog'],\n",
    "#             ),\n",
    "#         }\n",
    "    ], \n",
    "    children=dialog_children,\n",
    "    value = 0\n",
    ")\n",
    "\n",
    "v.Layout(children=[dialog])"
   ]
  },
  {
   "cell_type": "code",
   "execution_count": 16,
   "id": "431c8296",
   "metadata": {
    "scrolled": true
   },
   "outputs": [
    {
     "data": {
      "application/vnd.jupyter.widget-view+json": {
       "model_id": "f1e3983e39454762baa900c9c8294f67",
       "version_major": 2,
       "version_minor": 0
      },
      "text/plain": [
       "Btn(children=['Open Dialog'], class_='ma-2', color='primary', width='120px')"
      ]
     },
     "metadata": {},
     "output_type": "display_data"
    }
   ],
   "source": [
    "button = v.Btn(color='primary', class_='ma-2', children=['Open Dialog'], width = '120px')\n",
    "\n",
    "def on_button_clicked(item, event, data):\n",
    "    dialog.value = 5\n",
    "    dialog.value = 1\n",
    "\n",
    "button.on_event('click', on_button_clicked)\n",
    "\n",
    "button"
   ]
  },
  {
   "cell_type": "code",
   "execution_count": 11,
   "id": "6e245571",
   "metadata": {},
   "outputs": [],
   "source": [
    "dialog.value = 3"
   ]
  },
  {
   "cell_type": "code",
   "execution_count": 13,
   "id": "610a2cc9",
   "metadata": {},
   "outputs": [
    {
     "data": {
      "text/plain": [
       "5"
      ]
     },
     "execution_count": 13,
     "metadata": {},
     "output_type": "execute_result"
    }
   ],
   "source": [
    "dialog.value "
   ]
  },
  {
   "cell_type": "code",
   "execution_count": 15,
   "id": "16e8cba9",
   "metadata": {},
   "outputs": [
    {
     "data": {
      "application/vnd.jupyter.widget-view+json": {
       "model_id": "e1a4093ed37343849da1a73d30187987",
       "version_major": 2,
       "version_minor": 0
      },
      "text/plain": [
       "Container(children=[Slider(v_model=25), Slider(thumb_label=True, v_model=25), Slider(thumb_label='always', v_m…"
      ]
     },
     "metadata": {},
     "output_type": "display_data"
    }
   ],
   "source": [
    "slider = v.Slider(v_model=25)\n",
    "slider2 = v.Slider(thumb_label=True, v_model=25)\n",
    "slider3 = v.Slider(thumb_label='always', v_model=25)\n",
    "\n",
    "\n",
    "\n",
    "ipywidgets.jslink((slider, 'v_model'), (slider2, 'v_model'))\n",
    "ipywidgets.jslink((slider, 'v_model'), (slider3, 'v_model'))\n",
    "\n",
    "v.Container(children=[\n",
    "    slider,\n",
    "    slider2,\n",
    "    slider3\n",
    "])"
   ]
  },
  {
   "cell_type": "code",
   "execution_count": 16,
   "id": "8bfb6841",
   "metadata": {},
   "outputs": [
    {
     "data": {
      "application/vnd.jupyter.widget-view+json": {
       "model_id": "8c4af4e90b3a4ad7829c5e494a1d60f4",
       "version_major": 2,
       "version_minor": 0
      },
      "text/plain": [
       "Card(children=[Slider(dense=True, hide_details=True, max=1024.0, min=1.0, style_='padding:0; min-width:150px; …"
      ]
     },
     "metadata": {},
     "output_type": "display_data"
    }
   ],
   "source": [
    "import ipywidgets\n",
    "import math\n",
    "slider_value = 16\n",
    "\n",
    "slider = v.Slider(\n",
    "            min = 1,\n",
    "            max = 1024,\n",
    "            \n",
    "            v_model = slider_value,\n",
    "            dense = True,\n",
    "            hide_details = True,\n",
    "            style_ = \"padding:0; min-width:150px; height:25px; \\\n",
    "                margin-left:8px; margin-right:2px;\",\n",
    "        )\n",
    "\n",
    "counter = v.TextField(\n",
    "    v_model = slider_value,\n",
    "    dense = True,\n",
    "    FileLoader = True,\n",
    "    style_ = \"max-width:60px;\",\n",
    ")\n",
    "\n",
    "ipywidgets.jslink((slider, 'v_model'), (counter, 'v_model'))\n",
    "\n",
    "v.Card(children = [slider, counter])\n"
   ]
  },
  {
   "cell_type": "code",
   "execution_count": 17,
   "id": "44d632df",
   "metadata": {},
   "outputs": [],
   "source": [
    "def _reset_step(item, event=None, data=None):\n",
    "    current_value = item.v_model\n",
    "    print(current_value)\n",
    "slider.on_event('click', _reset_step)"
   ]
  },
  {
   "cell_type": "code",
   "execution_count": 18,
   "id": "97eff2a1",
   "metadata": {},
   "outputs": [],
   "source": [
    "slider.step = 4.0"
   ]
  },
  {
   "cell_type": "code",
   "execution_count": 19,
   "id": "20267138",
   "metadata": {
    "scrolled": true
   },
   "outputs": [
    {
     "data": {
      "application/vnd.jupyter.widget-view+json": {
       "model_id": "d4df95e0c73245f3984abc2929010f7a",
       "version_major": 2,
       "version_minor": 0
      },
      "text/plain": [
       "Row(children=[Slider(hide_details=True, max=0.99, min=0.0, step=0.01, style_='max-width: 233px; min-width:233p…"
      ]
     },
     "metadata": {},
     "output_type": "display_data"
    }
   ],
   "source": [
    "a = 0\n",
    "\n",
    "text2 = v.TextField(\n",
    "            v_model = 0,\n",
    "            type = 'number',\n",
    "            style_ = \"max-width: 60px\",\n",
    "            hide_details = True,\n",
    "        )\n",
    "\n",
    "slider4 = v.Slider(\n",
    "    v_model=0.3,\n",
    "    min = 0,\n",
    "    max = 0.99,\n",
    "    step = 0.01,\n",
    "    hide_details = True,\n",
    "    style_ = \"max-width: 233px; min-width:233px\",\n",
    ")\n",
    "\n",
    "ipywidgets.jslink((slider4, 'v_model'), (text2, 'v_model'))\n",
    "\n",
    "\n",
    "v.Row(\n",
    "    children = [slider4, text2]\n",
    ")"
   ]
  },
  {
   "cell_type": "code",
   "execution_count": 20,
   "id": "f0c89c4f",
   "metadata": {},
   "outputs": [
    {
     "data": {
      "text/plain": [
       "0.3"
      ]
     },
     "execution_count": 20,
     "metadata": {},
     "output_type": "execute_result"
    }
   ],
   "source": [
    "text2.v_model"
   ]
  },
  {
   "cell_type": "code",
   "execution_count": 87,
   "id": "8aef4a14",
   "metadata": {
    "scrolled": true
   },
   "outputs": [
    {
     "data": {
      "application/vnd.jupyter.widget-view+json": {
       "model_id": "797a86f5bf68451eabd2ce4483d36d88",
       "version_major": 2,
       "version_minor": 0
      },
      "text/plain": [
       "Layout(children=[Select(flat=True, items=['Option a', 'Option b', 'Option c'], label='Choose option', v_model=…"
      ]
     },
     "metadata": {},
     "output_type": "display_data"
    }
   ],
   "source": [
    "v_model = \"Option b\"\n",
    "select1=v.Select(label=\"Choose option\", items=['Option a', 'Option b', 'Option c'], v_model = v_model, flat=True)\n",
    "v.Layout(children=[select1])"
   ]
  },
  {
   "cell_type": "code",
   "execution_count": 88,
   "id": "61d01d50",
   "metadata": {},
   "outputs": [
    {
     "data": {
      "application/vnd.jupyter.widget-view+json": {
       "model_id": "2fb9d4b446294e728645147482c39693",
       "version_major": 2,
       "version_minor": 0
      },
      "text/plain": [
       "Tabs(children=[Tab(children=['Tab 1']), Tab(children=['Tab 2']), Tab(children=['Tab 3']), TabItem(children=['L…"
      ]
     },
     "metadata": {},
     "output_type": "display_data"
    }
   ],
   "source": [
    "tab_list = [v.Tab(children=['Tab ' + str(i)]) for i in range(1,4)]\n",
    "content_list = [v.TabItem(children=[lorum_ipsum]) for i in range(1,4)] \n",
    "tabs = v.Tabs(\n",
    "    v_model=\"\", \n",
    "    children=tab_list + content_list)\n",
    "tabs"
   ]
  },
  {
   "cell_type": "code",
   "execution_count": 89,
   "id": "32c8b109",
   "metadata": {},
   "outputs": [
    {
     "data": {
      "application/vnd.jupyter.widget-view+json": {
       "model_id": "9a0c64e9d8094cc8829f09a83a559791",
       "version_major": 2,
       "version_minor": 0
      },
      "text/plain": [
       "Layout(children=[NavigationDrawer(absolute=True, children=[List(children=[Btn(children=['Close drawer'], color…"
      ]
     },
     "metadata": {},
     "output_type": "display_data"
    }
   ],
   "source": [
    "import ipyvuetify as v\n",
    "def on_click(widget, event, data):\n",
    "   vnd.v_model = not vnd.v_model\n",
    "    \n",
    "\n",
    "drawer_button = v.Btn(color='primary', children=['Close drawer'])\n",
    "drawer_button.on_event('click', on_click)\n",
    "\n",
    "# items = [v.ListItem(children=[\n",
    "#     v.ListItemTitle(children=[\n",
    "#         f'Click me {i}'])]) \n",
    "#          for i in range(1, 5)]\n",
    "\n",
    "\n",
    "\n",
    "vnd = v.NavigationDrawer(v_model=False, absolute=True, right=True, children=[\n",
    "    v.List(children=[drawer_button])\n",
    "])\n",
    "\n",
    "show_drawer = v.Btn(color='primary', children=['Toggle drawer'])\n",
    "show_drawer.on_event('click', on_click)\n",
    "\n",
    "v.Layout(children=[vnd, show_drawer]) "
   ]
  },
  {
   "cell_type": "code",
   "execution_count": 90,
   "id": "177efd09",
   "metadata": {},
   "outputs": [
    {
     "data": {
      "application/vnd.jupyter.widget-view+json": {
       "model_id": "57cb43507f144d908de3aecc1e11ea01",
       "version_major": 2,
       "version_minor": 0
      },
      "text/plain": [
       "Layout(children=[ExpansionPanels(children=[ExpansionPanel(children=[ExpansionPanelHeader(children=['item1']), …"
      ]
     },
     "metadata": {},
     "output_type": "display_data"
    }
   ],
   "source": [
    "import ipyvuetify as v\n",
    "vepc1 = v.ExpansionPanel(children=[\n",
    "    v.ExpansionPanelHeader(children=['item1']),\n",
    "    v.ExpansionPanelContent(children=['First Text'])])\n",
    "\n",
    "vepc2 = v.ExpansionPanel(children=[\n",
    "    v.ExpansionPanelHeader(children=['item2']),\n",
    "    v.ExpansionPanelContent(children=['Second Text'])])\n",
    "\n",
    "vep = v.ExpansionPanels(children=[vepc1, vepc2])\n",
    "vl = v.Layout(class_='pa-4', children=[vep])\n",
    "vl"
   ]
  },
  {
   "cell_type": "code",
   "execution_count": 91,
   "id": "2e66e00c",
   "metadata": {},
   "outputs": [
    {
     "data": {
      "application/vnd.jupyter.widget-view+json": {
       "model_id": "e705e57b9f154043b317f8103208d26b",
       "version_major": 2,
       "version_minor": 0
      },
      "text/plain": [
       "Banner(children=['One line message text string with two actions on tablet / Desktop'], single_line=True, v_slo…"
      ]
     },
     "metadata": {},
     "output_type": "display_data"
    }
   ],
   "source": [
    "import ipyvuetify as v\n",
    "v.Banner(single_line=True,\n",
    "    v_slots=[{\n",
    "        'name': 'icon',\n",
    "        'children': v.Icon(children=['mdi-thumb-up'])\n",
    "    }, {\n",
    "        'name': 'actions',\n",
    "        'children': v.Btn(text=True, color='deep-purple accent-4', children=['Action'])\n",
    "    }], \n",
    "    children=['One line message text string with two actions on tablet / Desktop'])"
   ]
  },
  {
   "cell_type": "code",
   "execution_count": 92,
   "id": "3aaf64de",
   "metadata": {
    "scrolled": true
   },
   "outputs": [
    {
     "data": {
      "application/vnd.jupyter.widget-view+json": {
       "model_id": "4aa2204af5bf407fa978e7852f9927e1",
       "version_major": 2,
       "version_minor": 0
      },
      "text/plain": [
       "Container(children=[Flex(children=[Treeview(activatable=True, items=[{'id': 1, 'name': 'Applications :', 'chil…"
      ]
     },
     "metadata": {},
     "output_type": "display_data"
    }
   ],
   "source": [
    "import ipyvuetify as v\n",
    "\n",
    "activated = v.Chip(children=['_'])\n",
    "\n",
    "items = [{\n",
    "  'id': 1,\n",
    "  'name': 'Applications :',\n",
    "  'children': [\n",
    "    { 'id': 2, 'name': 'Calendar' },\n",
    "    { 'id': 3, 'name': 'Chrome' },\n",
    "    { 'id': 4, 'name': 'Webstorm', 'children': [\n",
    "        { 'id': 5, 'name': 'Test'}]},\n",
    "  ],\n",
    "}]\n",
    "\n",
    "def on_activated(widget, event, data):\n",
    "    activated.children = [f'{data}']\n",
    "\n",
    "treeview = v.Treeview(items=items, selectable=True, activatable=True, v_model=[2])\n",
    "treeview.on_event('update:active', on_activated)\n",
    "\n",
    "v.Container(row=True, children=[\n",
    "    v.Flex(xs12=True, children=[treeview]),\n",
    "    v.Flex(xs12=True, children=[activated])])"
   ]
  },
  {
   "cell_type": "code",
   "execution_count": 93,
   "id": "c738e465",
   "metadata": {},
   "outputs": [
    {
     "data": {
      "application/vnd.jupyter.widget-view+json": {
       "model_id": "a1628e5121c6407eb1b8bdce047f4e6c",
       "version_major": 2,
       "version_minor": 0
      },
      "text/plain": [
       "Container(children=[Btn(children=['button', Icon(children=['mdi-account-lock'], right=True)], color='primary')…"
      ]
     },
     "metadata": {},
     "output_type": "display_data"
    }
   ],
   "source": [
    "icon = v.Icon(right=True, children=['mdi-account-lock'])\n",
    "btn = v.Btn(color='primary', children=[\n",
    "    'button',\n",
    "    icon\n",
    "])\n",
    "\n",
    "icon.on_event('click.stop', lambda *args: print('icon clicked'))\n",
    "btn.on_event('click', lambda *args: print('btn clicked'))\n",
    "\n",
    "v.Container(children=[\n",
    "    btn\n",
    "])\n"
   ]
  },
  {
   "cell_type": "code",
   "execution_count": 4,
   "id": "7f5bbb82",
   "metadata": {
    "scrolled": false
   },
   "outputs": [
    {
     "data": {
      "application/vnd.jupyter.widget-view+json": {
       "model_id": "27e7d8d1116c4224805dba8f7162e630",
       "version_major": 2,
       "version_minor": 0
      },
      "text/plain": [
       "MyMenu(events=['menu_click'], items=['red', 'green', 'purple'])"
      ]
     },
     "metadata": {},
     "output_type": "display_data"
    }
   ],
   "source": [
    "import ipyvuetify as v\n",
    "\n",
    "from traitlets import (Any, Unicode, List)\n",
    "\n",
    "class MyMenu(v.VuetifyTemplate):\n",
    "    \n",
    "    color = Unicode('primary').tag(sync=True)\n",
    "    items = List(['red', 'green', 'purple']).tag(sync=True)\n",
    "    button_text = Unicode('menu').tag(sync=True)\n",
    "    template = Unicode('''\n",
    "        <v-layout>\n",
    "            <v-menu offset-y>\n",
    "                <template v-slot:activator=\"{ on }\">\n",
    "                    <v-btn\n",
    "                            :color=\"color\"\n",
    "                            class=\"white--text\"\n",
    "                            v-on=\"on\">\n",
    "                        {{ button_text }}|\n",
    "                    </v-btn>\n",
    "                </template>\n",
    "                <v-list>\n",
    "                    <v-list-item\n",
    "                            v-for=\"(item, index) in items\"\n",
    "                            :key=\"index\"\n",
    "                            @click=\"menu_click(index)\">\n",
    "                        <v-list-item-title>{{ item }}</v-list-item-title>\n",
    "                    </v-list-item>\n",
    "                </v-list>\n",
    "            </v-menu>\n",
    "        </v-layout>''').tag(sync=True)\n",
    "    \n",
    "    \n",
    "    def vue_menu_click(self, data):\n",
    "        self.color = self.items[data]\n",
    "        self.button_text = self.items[data]\n",
    "    \n",
    "    \n",
    "MyMenu()"
   ]
  },
  {
   "cell_type": "code",
   "execution_count": 3,
   "id": "87543fa8",
   "metadata": {
    "scrolled": false
   },
   "outputs": [
    {
     "data": {
      "application/vnd.jupyter.widget-view+json": {
       "model_id": "86c52ec208324a76831f39bf53cb9962",
       "version_major": 2,
       "version_minor": 0
      },
      "text/plain": [
       "Test(components={'myselect': Select(items=['identity', 'log', 'log10', 'log1p', 'log1p'], label='Transform', v…"
      ]
     },
     "metadata": {},
     "output_type": "display_data"
    }
   ],
   "source": [
    "from traitlets import *\n",
    "import ipyvuetify as v\n",
    "\n",
    "\n",
    "select = v.Select(items=['identity', 'log', 'log10', 'log1p', 'log1p'], v_model='log', label='Transform')\n",
    "\n",
    "class Test(v.VuetifyTemplate):\n",
    "    \n",
    "    items = Any(['a', 'b']).tag(sync=True)\n",
    "    template = Unicode('''\n",
    "            <v-layout column>\n",
    "              <myselect/>\n",
    "              <v-select \n",
    "              :items=\"items\"\n",
    "              >\n",
    "              </v-select>\n",
    "            </v-layout>\n",
    "''').tag(sync=True)\n",
    "    \n",
    "    \n",
    "    \n",
    "    \n",
    "test = Test(components={'myselect': select})\n",
    "test"
   ]
  },
  {
   "cell_type": "code",
   "execution_count": 14,
   "id": "2dbab359",
   "metadata": {
    "scrolled": false
   },
   "outputs": [
    {
     "data": {
      "application/vnd.jupyter.widget-view+json": {
       "model_id": "de50ca09e1684aa2bd3329402217f137",
       "version_major": 2,
       "version_minor": 0
      },
      "text/plain": [
       "PandasDataFrame(events=['cell_click'], headers=[{'text': 'index', 'value': 'index', 'align': 'left', 'sortable…"
      ]
     },
     "metadata": {},
     "output_type": "display_data"
    }
   ],
   "source": [
    "import pandas as pd\n",
    "import traitlets\n",
    "import ipyvuetify as v\n",
    "import json\n",
    "\n",
    "class PandasDataFrame(v.VuetifyTemplate):\n",
    "    \"\"\"\n",
    "    Vuetify DataTable rendering of a pandas DataFrame\n",
    "    \n",
    "    Args:\n",
    "        data (DataFrame) - the data to render\n",
    "        title (str) - optional title\n",
    "    \"\"\"\n",
    "    \n",
    "    headers = traitlets.List([]).tag(sync=True, allow_null=True)\n",
    "    items = traitlets.List([]).tag(sync=True, allow_null=True)\n",
    "    search = traitlets.Unicode('').tag(sync=True)\n",
    "    title = traitlets.Unicode('DataFrame').tag(sync=True)\n",
    "    index_col = traitlets.Unicode('').tag(sync=True)\n",
    "    template = traitlets.Unicode('''\n",
    "        <template>\n",
    "          <v-card>\n",
    "            <v-card-title>\n",
    "              <span class=\"title font-weight-bold\">{{ title }}</span>\n",
    "              <v-spacer></v-spacer>\n",
    "                <v-text-field\n",
    "                    v-model=\"search\"\n",
    "                    append-icon=\"mdi-magnify\"\n",
    "                    label=\"Search ...\"\n",
    "                    single-line\n",
    "                    hide-details\n",
    "                ></v-text-field>\n",
    "            </v-card-title>\n",
    "            <v-data-table\n",
    "                :headers=\"headers\"\n",
    "                :items=\"items\"\n",
    "                :search=\"search\"\n",
    "                :item-key=\"index_col\"\n",
    "                :footer-props=\"{'items-per-page-options': [25, 50, 250, 500]}\"\n",
    "            >\n",
    "                <template v-slot:no-data>\n",
    "                  <v-alert :value=\"true\" color=\"error\" icon=\"mdi-alert\">\n",
    "                    Sorry, nothing to display here :(\n",
    "                  </v-alert>\n",
    "                </template>\n",
    "                <template v-slot:no-results>\n",
    "                    <v-alert :value=\"true\" color=\"error\" icon=\"mdi-alert\">\n",
    "                      Your search for \"{{ search }}\" found no results.\n",
    "                    </v-alert>\n",
    "                </template>\n",
    "                <template v-slot:items=\"rows\">\n",
    "                  <td v-for=\"(element, label, index) in rows.item\"\n",
    "                      @click=\"cell_click(element)\"\n",
    "                      >\n",
    "                    {{ element }}\n",
    "                  </td>\n",
    "                </template>\n",
    "\n",
    "            </v-data-table>\n",
    "          </v-card>\n",
    "        </template>\n",
    "        ''').tag(sync=True)\n",
    "    \n",
    "    def __init__(self, *args, \n",
    "                 data=pd.DataFrame(), \n",
    "                 title=None,\n",
    "                 **kwargs):\n",
    "        super().__init__(*args, **kwargs)\n",
    "        data = data.reset_index()\n",
    "        self.index_col = data.columns[0]\n",
    "        headers = [{\n",
    "              \"text\": col,\n",
    "              \"value\": col\n",
    "            } for col in data.columns]\n",
    "        headers[0].update({'align': 'left', 'sortable': True})\n",
    "        self.headers = headers\n",
    "        self.items = json.loads(\n",
    "            data.to_json(orient='records'))\n",
    "        if title is not None:\n",
    "            self.title = title\n",
    "    \n",
    "    def vue_cell_click(element):\n",
    "        print(element)\n",
    "    \n",
    "    \n",
    "iris = pd.read_csv('https://raw.githubusercontent.com/mwaskom/seaborn-data/master/iris.csv')\n",
    "test = PandasDataFrame(data = iris, title='Iris')\n",
    "test"
   ]
  },
  {
   "cell_type": "code",
   "execution_count": 100,
   "id": "9db5518a",
   "metadata": {},
   "outputs": [],
   "source": [
    "# iris.reset_index()"
   ]
  },
  {
   "cell_type": "code",
   "execution_count": 101,
   "id": "6a898328",
   "metadata": {},
   "outputs": [],
   "source": [
    "# import pandas as pd\n",
    "# import traitlets\n",
    "# import ipyvuetify as v\n",
    "# import json\n",
    "\n",
    "# class DataTable(v.VuetifyTemplate):\n",
    "#     title = traitlets.Unicode('').tag(sync=True, allow_null=True)\n",
    "    \n",
    "#     headers = traitlets.List([]).tag(sync=True, allow_null=True)\n",
    "#     items = traitlets.List([]).tag(sync=True, allow_null=True)\n",
    "    \n",
    "#     # 칼럼명(col_name) 세팅\n",
    "#     col_names = traitlets.List([]).tag(sync=True, allow_null=True)\n",
    "#     # 입력/출력(in_out) 세팅\n",
    "#     in_out = traitlets.List([]).tag(sync=True, allow_null=True)\n",
    "#     in_out_options = traitlets.List([]).tag(sync=True, allow_null=True)\n",
    "#     in_out_selected = traitlets.List([]).tag(sync=True, allow_null=True)\n",
    "    \n",
    "#     index_col = traitlets.Unicode('').tag(sync=True)\n",
    "\n",
    "#     table = '''\n",
    "#         <template>\n",
    "#           <v-card>\n",
    "#             <v-card-title>\n",
    "#               <span class=\"title font-weight-bold\">{{title}}</span>\n",
    "#               <v-spacer></v-spacer>\n",
    "#             </v-card-title>\n",
    "#             <v-data-table\n",
    "#                 :headers=\"headers\"\n",
    "#                 :items=\"items\"\n",
    "#                 :item-key=\"index_col\"\n",
    "#                 :rows-per-page-items=\"[10, 25, 50, 100]\"\n",
    "#             >\n",
    "#                 <template v-slot:item.in_out = {item}>\n",
    "#                     <v-select\n",
    "#                         v-model = \"item.in_out\"\n",
    "#                         @change=\"test(item)\"\n",
    "#                         :items=\"in_out_options\"\n",
    "                        \n",
    "#                         style = \"width:150px;\"\n",
    "#                         dense\n",
    "#                         attach\n",
    "#                         >\n",
    "#                     </v-select>\n",
    "#                 </template>\n",
    "                \n",
    "#             </v-data-table>\n",
    "#           </v-card>\n",
    "#         </template>    \n",
    "#     '''\n",
    "    \n",
    "#     template = traitlets.Unicode(table).tag(sync=True)\n",
    "    \n",
    "#     def __init__(self, data, **kwargs):\n",
    "        \n",
    "#         super().__init__()\n",
    "#         self.title = \"Title\"\n",
    "#         self.headers = [\n",
    "#             {\"text\": \"칼럼명\", \"value\": \"col_name\"},\n",
    "#             {\"text\": \"입력/출력\", \"value\": \"in_out\"},\n",
    "#             {\"text\": \"데이터 유형_옵션\", \"value\": \"data_type_options\"},\n",
    "#             {\"text\": \"데이터 유형\", \"value\": \"data_type\"},\n",
    "#             {\"text\": \"데이터 인코더\", \"value\": \"data_encoder\"},\n",
    "#         ]\n",
    "        \n",
    "        \n",
    "#         # 칼럼 합치기\n",
    "#         def _concat_columns(columns):\n",
    "#             to_df = [pd.DataFrame(column) for column in columns]\n",
    "#             df_concated = pd.concat(to_df, axis=1)\n",
    "#             return json.loads(df_concated.to_json(orient='records'))\n",
    "            \n",
    "            \n",
    "#         # 칼럼명(col_name) 세팅        \n",
    "#         self.col_names = [{\"col_name\": col_name} for col_name in data.columns[:3]]\n",
    "#         # 입력/출력(in_out) 세팅\n",
    "#         self.in_out_options = [\n",
    "#             {\"text\":\"입력\", \"value\":\"input\"},\n",
    "#             {\"text\":\"출력\", \"value\":\"output\"},\n",
    "#             {\"text\":\"제외\", \"value\":\"na\"},\n",
    "#              ]\n",
    "#         self.in_out = [{\"in_out\":\"input\"} for x in range(len(data.columns[:3]))]\n",
    "#         # 데이터 유형(data_type) 세팅\n",
    "# #         self.data_type_base = app\n",
    "\n",
    "\n",
    "#         self.items = _concat_columns([self.col_names, self.in_out])\n",
    "\n",
    "#         def vue_test(item):\n",
    "#             self.title = \"?????\"\n",
    "\n",
    "# data = pd.read_csv('../data/titanic_train.csv')\n",
    "# table = DataTable(data = data)\n",
    "# table"
   ]
  },
  {
   "cell_type": "code",
   "execution_count": null,
   "id": "b43541b2",
   "metadata": {},
   "outputs": [],
   "source": []
  }
 ],
 "metadata": {
  "kernelspec": {
   "display_name": "Python 3",
   "language": "python",
   "name": "python3"
  },
  "language_info": {
   "codemirror_mode": {
    "name": "ipython",
    "version": 3
   },
   "file_extension": ".py",
   "mimetype": "text/x-python",
   "name": "python",
   "nbconvert_exporter": "python",
   "pygments_lexer": "ipython3",
   "version": "3.8.10"
  }
 },
 "nbformat": 4,
 "nbformat_minor": 5
}
