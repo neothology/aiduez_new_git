{
 "cells": [
  {
   "cell_type": "code",
   "execution_count": 36,
   "id": "8deabda6",
   "metadata": {},
   "outputs": [],
   "source": [
    "class A:\n",
    "    def __init__(self):\n",
    "        self.a = 1\n",
    "        \n",
    "    def c(self):\n",
    "        return self.a"
   ]
  },
  {
   "cell_type": "code",
   "execution_count": 37,
   "id": "6c82df4c",
   "metadata": {},
   "outputs": [],
   "source": [
    "l = A()"
   ]
  },
  {
   "cell_type": "code",
   "execution_count": 38,
   "id": "4ff04fe6",
   "metadata": {},
   "outputs": [
    {
     "data": {
      "text/plain": [
       "1"
      ]
     },
     "execution_count": 38,
     "metadata": {},
     "output_type": "execute_result"
    }
   ],
   "source": [
    "l.c()"
   ]
  },
  {
   "cell_type": "code",
   "execution_count": null,
   "id": "7bf5b3a2",
   "metadata": {},
   "outputs": [],
   "source": []
  }
 ],
 "metadata": {
  "kernelspec": {
   "display_name": "Python 3",
   "language": "python",
   "name": "python3"
  },
  "language_info": {
   "codemirror_mode": {
    "name": "ipython",
    "version": 3
   },
   "file_extension": ".py",
   "mimetype": "text/x-python",
   "name": "python",
   "nbconvert_exporter": "python",
   "pygments_lexer": "ipython3",
   "version": "3.8.10"
  }
 },
 "nbformat": 4,
 "nbformat_minor": 5
}
