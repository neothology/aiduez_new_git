{
 "cells": [
  {
   "cell_type": "code",
   "execution_count": 36,
   "id": "8deabda6",
   "metadata": {},
   "outputs": [],
   "source": [
    "class A:\n",
    "    def __init__(self):\n",
    "        self.a = 1\n",
    "        \n",
    "    def c(self):\n",
    "        return self.a"
   ]
  },
  {
   "cell_type": "code",
   "execution_count": 37,
   "id": "6c82df4c",
   "metadata": {},
   "outputs": [],
   "source": [
    "l = A()"
   ]
  },
  {
   "cell_type": "code",
   "execution_count": 2,
   "id": "4ff04fe6",
   "metadata": {},
   "outputs": [],
   "source": [
    "def a(x):\n",
    "    return x, x*2"
   ]
  },
  {
   "cell_type": "code",
   "execution_count": 3,
   "id": "7bf5b3a2",
   "metadata": {},
   "outputs": [
    {
     "data": {
      "text/plain": [
       "[(0, 0),\n",
       " (1, 2),\n",
       " (2, 4),\n",
       " (3, 6),\n",
       " (4, 8),\n",
       " (5, 10),\n",
       " (6, 12),\n",
       " (7, 14),\n",
       " (8, 16),\n",
       " (9, 18),\n",
       " (10, 20),\n",
       " (11, 22),\n",
       " (12, 24),\n",
       " (13, 26),\n",
       " (14, 28),\n",
       " (15, 30),\n",
       " (16, 32),\n",
       " (17, 34),\n",
       " (18, 36),\n",
       " (19, 38),\n",
       " (20, 40),\n",
       " (21, 42),\n",
       " (22, 44),\n",
       " (23, 46),\n",
       " (24, 48),\n",
       " (25, 50),\n",
       " (26, 52),\n",
       " (27, 54),\n",
       " (28, 56),\n",
       " (29, 58),\n",
       " (30, 60),\n",
       " (31, 62),\n",
       " (32, 64),\n",
       " (33, 66),\n",
       " (34, 68),\n",
       " (35, 70),\n",
       " (36, 72),\n",
       " (37, 74),\n",
       " (38, 76),\n",
       " (39, 78),\n",
       " (40, 80),\n",
       " (41, 82),\n",
       " (42, 84),\n",
       " (43, 86),\n",
       " (44, 88),\n",
       " (45, 90),\n",
       " (46, 92),\n",
       " (47, 94),\n",
       " (48, 96),\n",
       " (49, 98),\n",
       " (50, 100),\n",
       " (51, 102),\n",
       " (52, 104),\n",
       " (53, 106),\n",
       " (54, 108),\n",
       " (55, 110),\n",
       " (56, 112),\n",
       " (57, 114),\n",
       " (58, 116),\n",
       " (59, 118),\n",
       " (60, 120),\n",
       " (61, 122),\n",
       " (62, 124),\n",
       " (63, 126),\n",
       " (64, 128),\n",
       " (65, 130),\n",
       " (66, 132),\n",
       " (67, 134),\n",
       " (68, 136),\n",
       " (69, 138),\n",
       " (70, 140),\n",
       " (71, 142),\n",
       " (72, 144),\n",
       " (73, 146),\n",
       " (74, 148),\n",
       " (75, 150),\n",
       " (76, 152),\n",
       " (77, 154),\n",
       " (78, 156),\n",
       " (79, 158),\n",
       " (80, 160),\n",
       " (81, 162),\n",
       " (82, 164),\n",
       " (83, 166),\n",
       " (84, 168),\n",
       " (85, 170),\n",
       " (86, 172),\n",
       " (87, 174),\n",
       " (88, 176),\n",
       " (89, 178),\n",
       " (90, 180),\n",
       " (91, 182),\n",
       " (92, 184),\n",
       " (93, 186),\n",
       " (94, 188),\n",
       " (95, 190),\n",
       " (96, 192),\n",
       " (97, 194),\n",
       " (98, 196),\n",
       " (99, 198)]"
      ]
     },
     "execution_count": 3,
     "metadata": {},
     "output_type": "execute_result"
    }
   ],
   "source": [
    "s = []\n",
    "\n",
    "for i in range(100):\n",
    "    s.append(a(i))\n",
    "s\n"
   ]
  },
  {
   "cell_type": "code",
   "execution_count": null,
   "id": "3128c01a",
   "metadata": {},
   "outputs": [],
   "source": []
  }
 ],
 "metadata": {
  "kernelspec": {
   "display_name": "Python 3",
   "language": "python",
   "name": "python3"
  },
  "language_info": {
   "codemirror_mode": {
    "name": "ipython",
    "version": 3
   },
   "file_extension": ".py",
   "mimetype": "text/x-python",
   "name": "python",
   "nbconvert_exporter": "python",
   "pygments_lexer": "ipython3",
   "version": "3.8.10"
  }
 },
 "nbformat": 4,
 "nbformat_minor": 5
}
