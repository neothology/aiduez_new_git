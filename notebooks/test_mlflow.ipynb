{
 "cells": [
  {
   "cell_type": "code",
   "execution_count": 11,
   "id": "e02b5aaf",
   "metadata": {},
   "outputs": [],
   "source": [
    "from os import listdir\n",
    "from os.path import isfile, join\n",
    "import re\n",
    "import mlflow as mf\n",
    "from mlflow.tracking import MlflowClient\n",
    "from mlflow.entities import ViewType\n",
    "import zipfile\n",
    "\n",
    "workspace_dir = '/opt/code/aiduez3_dspace/workspace'\n"
   ]
  },
  {
   "cell_type": "code",
   "execution_count": 12,
   "id": "6bd50235",
   "metadata": {},
   "outputs": [],
   "source": [
    "def get_new_filename(path):\n",
    "    files_only = [f for f in listdir(path) if isfile(join(path, f))] # file names only(not directories)\n",
    "    match_result = [re.match('Untitled([1-9]\\d*)[.]ezx|Untitled[.]ezx',name) for name in files_only] # match file names with 'Untitled~.ezx'\n",
    "    file_no_list = [x.group(1) for x in match_result if x] # get file numbers including None('=Untitled.ezx')\n",
    "    file_no_list_exept_none = [int(y) for y in file_no_list if y]\n",
    "\n",
    "    if None in file_no_list: # if 'Untitled.ezx' in files_only\n",
    "        if len(file_no_list) == 1:\n",
    "            return 'Untitled1.ezx'\n",
    "        else:\n",
    "            max_no = max(file_no_list_exept_none)\n",
    "            for i in range(1, max_no + 1):\n",
    "                if i not in file_no_list_exept_none:\n",
    "                    return f'Untitled{i}.ezx'\n",
    "    else:\n",
    "        return 'Untitled.ezx'"
   ]
  },
  {
   "cell_type": "code",
   "execution_count": 24,
   "id": "91c6b69e",
   "metadata": {},
   "outputs": [],
   "source": [
    "files_only=[f for f in listdir(workspace_dir) if isfile(join(workspace_dir, f))] # file names only(not directories)\n",
    "match_result = [re.match('Untitled([1-9]\\d*)[.]ezx|Untitled[.]ezx',name) for name in files_only] # match file names with 'Untitled~.ezx'"
   ]
  },
  {
   "cell_type": "code",
   "execution_count": 25,
   "id": "64c847db",
   "metadata": {},
   "outputs": [
    {
     "data": {
      "text/plain": [
       "['Untitled.ezx', 'Untitled1.ezx']"
      ]
     },
     "execution_count": 25,
     "metadata": {},
     "output_type": "execute_result"
    }
   ],
   "source": [
    "files_only"
   ]
  },
  {
   "cell_type": "code",
   "execution_count": 26,
   "id": "9136f600",
   "metadata": {},
   "outputs": [
    {
     "data": {
      "text/plain": [
       "[<re.Match object; span=(0, 12), match='Untitled.ezx'>,\n",
       " <re.Match object; span=(0, 13), match='Untitled1.ezx'>]"
      ]
     },
     "execution_count": 26,
     "metadata": {},
     "output_type": "execute_result"
    }
   ],
   "source": [
    "match_result"
   ]
  },
  {
   "cell_type": "code",
   "execution_count": 27,
   "id": "f3b4274d",
   "metadata": {},
   "outputs": [
    {
     "data": {
      "text/plain": [
       "[None, '1']"
      ]
     },
     "execution_count": 27,
     "metadata": {},
     "output_type": "execute_result"
    }
   ],
   "source": [
    "file_no_list = [x.group(1) for x in match_result if x] # get file numbers including None('=Untitled.ezx')\n",
    "file_no_list"
   ]
  },
  {
   "cell_type": "code",
   "execution_count": 28,
   "id": "6342b470",
   "metadata": {},
   "outputs": [
    {
     "data": {
      "text/plain": [
       "[1]"
      ]
     },
     "execution_count": 28,
     "metadata": {},
     "output_type": "execute_result"
    }
   ],
   "source": [
    "file_no_list_exept_none = [int(y) for y in file_no_list if y]\n",
    "file_no_list_exept_none"
   ]
  },
  {
   "cell_type": "code",
   "execution_count": 48,
   "id": "d0f8f5a6",
   "metadata": {},
   "outputs": [],
   "source": [
    "import pandas as pd\n",
    "\n",
    "df = pd.read_csv('/opt/code/aiduez3_dspace/data/titanic_train.csv')"
   ]
  },
  {
   "cell_type": "code",
   "execution_count": 49,
   "id": "2237161f",
   "metadata": {},
   "outputs": [
    {
     "data": {
      "text/html": [
       "<div>\n",
       "<style scoped>\n",
       "    .dataframe tbody tr th:only-of-type {\n",
       "        vertical-align: middle;\n",
       "    }\n",
       "\n",
       "    .dataframe tbody tr th {\n",
       "        vertical-align: top;\n",
       "    }\n",
       "\n",
       "    .dataframe thead th {\n",
       "        text-align: right;\n",
       "    }\n",
       "</style>\n",
       "<table border=\"1\" class=\"dataframe\">\n",
       "  <thead>\n",
       "    <tr style=\"text-align: right;\">\n",
       "      <th></th>\n",
       "      <th>PassengerId</th>\n",
       "      <th>Survived</th>\n",
       "      <th>Pclass</th>\n",
       "      <th>Name</th>\n",
       "      <th>Sex</th>\n",
       "      <th>Age</th>\n",
       "      <th>SibSp</th>\n",
       "      <th>Parch</th>\n",
       "      <th>Ticket</th>\n",
       "      <th>Fare</th>\n",
       "      <th>Cabin</th>\n",
       "      <th>Embarked</th>\n",
       "    </tr>\n",
       "  </thead>\n",
       "  <tbody>\n",
       "    <tr>\n",
       "      <th>0</th>\n",
       "      <td>90</td>\n",
       "      <td>0</td>\n",
       "      <td>3</td>\n",
       "      <td>Celotti, Mr. Francesco</td>\n",
       "      <td>male</td>\n",
       "      <td>24.0</td>\n",
       "      <td>0</td>\n",
       "      <td>0</td>\n",
       "      <td>343275</td>\n",
       "      <td>8.0500</td>\n",
       "      <td>NaN</td>\n",
       "      <td>S</td>\n",
       "    </tr>\n",
       "    <tr>\n",
       "      <th>1</th>\n",
       "      <td>91</td>\n",
       "      <td>0</td>\n",
       "      <td>3</td>\n",
       "      <td>Christmann, Mr. Emil</td>\n",
       "      <td>male</td>\n",
       "      <td>29.0</td>\n",
       "      <td>0</td>\n",
       "      <td>0</td>\n",
       "      <td>343276</td>\n",
       "      <td>8.0500</td>\n",
       "      <td>NaN</td>\n",
       "      <td>S</td>\n",
       "    </tr>\n",
       "    <tr>\n",
       "      <th>2</th>\n",
       "      <td>92</td>\n",
       "      <td>0</td>\n",
       "      <td>3</td>\n",
       "      <td>Andreasson, Mr. Paul Edvin</td>\n",
       "      <td>male</td>\n",
       "      <td>20.0</td>\n",
       "      <td>0</td>\n",
       "      <td>0</td>\n",
       "      <td>347466</td>\n",
       "      <td>7.8542</td>\n",
       "      <td>NaN</td>\n",
       "      <td>S</td>\n",
       "    </tr>\n",
       "    <tr>\n",
       "      <th>3</th>\n",
       "      <td>93</td>\n",
       "      <td>0</td>\n",
       "      <td>1</td>\n",
       "      <td>Chaffee, Mr. Herbert Fuller</td>\n",
       "      <td>male</td>\n",
       "      <td>46.0</td>\n",
       "      <td>1</td>\n",
       "      <td>0</td>\n",
       "      <td>W.E.P. 5734</td>\n",
       "      <td>61.1750</td>\n",
       "      <td>E31</td>\n",
       "      <td>S</td>\n",
       "    </tr>\n",
       "    <tr>\n",
       "      <th>4</th>\n",
       "      <td>94</td>\n",
       "      <td>0</td>\n",
       "      <td>3</td>\n",
       "      <td>Dean, Mr. Bertram Frank</td>\n",
       "      <td>male</td>\n",
       "      <td>26.0</td>\n",
       "      <td>1</td>\n",
       "      <td>2</td>\n",
       "      <td>C.A. 2315</td>\n",
       "      <td>20.5750</td>\n",
       "      <td>NaN</td>\n",
       "      <td>S</td>\n",
       "    </tr>\n",
       "    <tr>\n",
       "      <th>...</th>\n",
       "      <td>...</td>\n",
       "      <td>...</td>\n",
       "      <td>...</td>\n",
       "      <td>...</td>\n",
       "      <td>...</td>\n",
       "      <td>...</td>\n",
       "      <td>...</td>\n",
       "      <td>...</td>\n",
       "      <td>...</td>\n",
       "      <td>...</td>\n",
       "      <td>...</td>\n",
       "      <td>...</td>\n",
       "    </tr>\n",
       "    <tr>\n",
       "      <th>797</th>\n",
       "      <td>887</td>\n",
       "      <td>0</td>\n",
       "      <td>2</td>\n",
       "      <td>Montvila, Rev. Juozas</td>\n",
       "      <td>male</td>\n",
       "      <td>27.0</td>\n",
       "      <td>0</td>\n",
       "      <td>0</td>\n",
       "      <td>211536</td>\n",
       "      <td>13.0000</td>\n",
       "      <td>NaN</td>\n",
       "      <td>S</td>\n",
       "    </tr>\n",
       "    <tr>\n",
       "      <th>798</th>\n",
       "      <td>888</td>\n",
       "      <td>1</td>\n",
       "      <td>1</td>\n",
       "      <td>Graham, Miss. Margaret Edith</td>\n",
       "      <td>female</td>\n",
       "      <td>19.0</td>\n",
       "      <td>0</td>\n",
       "      <td>0</td>\n",
       "      <td>112053</td>\n",
       "      <td>30.0000</td>\n",
       "      <td>B42</td>\n",
       "      <td>S</td>\n",
       "    </tr>\n",
       "    <tr>\n",
       "      <th>799</th>\n",
       "      <td>889</td>\n",
       "      <td>0</td>\n",
       "      <td>3</td>\n",
       "      <td>Johnston, Miss. Catherine Helen \"Carrie\"</td>\n",
       "      <td>female</td>\n",
       "      <td>NaN</td>\n",
       "      <td>1</td>\n",
       "      <td>2</td>\n",
       "      <td>W./C. 6607</td>\n",
       "      <td>23.4500</td>\n",
       "      <td>NaN</td>\n",
       "      <td>S</td>\n",
       "    </tr>\n",
       "    <tr>\n",
       "      <th>800</th>\n",
       "      <td>890</td>\n",
       "      <td>1</td>\n",
       "      <td>1</td>\n",
       "      <td>Behr, Mr. Karl Howell</td>\n",
       "      <td>male</td>\n",
       "      <td>26.0</td>\n",
       "      <td>0</td>\n",
       "      <td>0</td>\n",
       "      <td>111369</td>\n",
       "      <td>30.0000</td>\n",
       "      <td>C148</td>\n",
       "      <td>C</td>\n",
       "    </tr>\n",
       "    <tr>\n",
       "      <th>801</th>\n",
       "      <td>891</td>\n",
       "      <td>0</td>\n",
       "      <td>3</td>\n",
       "      <td>Dooley, Mr. Patrick</td>\n",
       "      <td>male</td>\n",
       "      <td>32.0</td>\n",
       "      <td>0</td>\n",
       "      <td>0</td>\n",
       "      <td>370376</td>\n",
       "      <td>7.7500</td>\n",
       "      <td>NaN</td>\n",
       "      <td>Q</td>\n",
       "    </tr>\n",
       "  </tbody>\n",
       "</table>\n",
       "<p>802 rows × 12 columns</p>\n",
       "</div>"
      ],
      "text/plain": [
       "     PassengerId  Survived  Pclass                                      Name  \\\n",
       "0             90         0       3                    Celotti, Mr. Francesco   \n",
       "1             91         0       3                      Christmann, Mr. Emil   \n",
       "2             92         0       3                Andreasson, Mr. Paul Edvin   \n",
       "3             93         0       1               Chaffee, Mr. Herbert Fuller   \n",
       "4             94         0       3                   Dean, Mr. Bertram Frank   \n",
       "..           ...       ...     ...                                       ...   \n",
       "797          887         0       2                     Montvila, Rev. Juozas   \n",
       "798          888         1       1              Graham, Miss. Margaret Edith   \n",
       "799          889         0       3  Johnston, Miss. Catherine Helen \"Carrie\"   \n",
       "800          890         1       1                     Behr, Mr. Karl Howell   \n",
       "801          891         0       3                       Dooley, Mr. Patrick   \n",
       "\n",
       "        Sex   Age  SibSp  Parch       Ticket     Fare Cabin Embarked  \n",
       "0      male  24.0      0      0       343275   8.0500   NaN        S  \n",
       "1      male  29.0      0      0       343276   8.0500   NaN        S  \n",
       "2      male  20.0      0      0       347466   7.8542   NaN        S  \n",
       "3      male  46.0      1      0  W.E.P. 5734  61.1750   E31        S  \n",
       "4      male  26.0      1      2    C.A. 2315  20.5750   NaN        S  \n",
       "..      ...   ...    ...    ...          ...      ...   ...      ...  \n",
       "797    male  27.0      0      0       211536  13.0000   NaN        S  \n",
       "798  female  19.0      0      0       112053  30.0000   B42        S  \n",
       "799  female   NaN      1      2   W./C. 6607  23.4500   NaN        S  \n",
       "800    male  26.0      0      0       111369  30.0000  C148        C  \n",
       "801    male  32.0      0      0       370376   7.7500   NaN        Q  \n",
       "\n",
       "[802 rows x 12 columns]"
      ]
     },
     "execution_count": 49,
     "metadata": {},
     "output_type": "execute_result"
    }
   ],
   "source": [
    "df"
   ]
  },
  {
   "cell_type": "code",
   "execution_count": 20,
   "id": "b7317b3d",
   "metadata": {},
   "outputs": [],
   "source": [
    "filename = get_new_filename(workspace_dir)\n",
    "filepath = f'{workspace_dir}/{filename}'\n",
    "file = zipfile.ZipFile(filepath, 'w')"
   ]
  },
  {
   "cell_type": "code",
   "execution_count": 21,
   "id": "4406b190",
   "metadata": {},
   "outputs": [],
   "source": [
    "filename"
   ]
  },
  {
   "cell_type": "code",
   "execution_count": 15,
   "id": "4ecf58f6",
   "metadata": {},
   "outputs": [
    {
     "data": {
      "text/plain": [
       "'/opt/code/aiduez3_dspace/workspace/Untitled.ezx'"
      ]
     },
     "execution_count": 15,
     "metadata": {},
     "output_type": "execute_result"
    }
   ],
   "source": [
    "filepath = f'{workspace_dir}/{filename}'\n",
    "filepath"
   ]
  },
  {
   "cell_type": "code",
   "execution_count": 17,
   "id": "919db673",
   "metadata": {},
   "outputs": [],
   "source": [
    "file = zipfile.ZipFile(filepath, 'w')"
   ]
  },
  {
   "cell_type": "code",
   "execution_count": 34,
   "id": "b91d2c3e",
   "metadata": {},
   "outputs": [],
   "source": [
    "mf.set_tracking_uri('/usr/tmp/.mlflow')"
   ]
  },
  {
   "cell_type": "code",
   "execution_count": 36,
   "id": "416bf61f",
   "metadata": {},
   "outputs": [
    {
     "data": {
      "text/plain": [
       "'0'"
      ]
     },
     "execution_count": 36,
     "metadata": {},
     "output_type": "execute_result"
    }
   ],
   "source": [
    "mf.create_experiment(filename)"
   ]
  },
  {
   "cell_type": "code",
   "execution_count": 27,
   "id": "007b85a9",
   "metadata": {},
   "outputs": [
    {
     "data": {
      "text/plain": [
       "[]"
      ]
     },
     "execution_count": 27,
     "metadata": {},
     "output_type": "execute_result"
    }
   ],
   "source": [
    "mf.list_run_infos(\"1\", run_view_type=ViewType.ACTIVE_ONLY)"
   ]
  },
  {
   "cell_type": "code",
   "execution_count": null,
   "id": "99f75ae5",
   "metadata": {},
   "outputs": [],
   "source": []
  }
 ],
 "metadata": {
  "kernelspec": {
   "display_name": "Python 3",
   "language": "python",
   "name": "python3"
  },
  "language_info": {
   "codemirror_mode": {
    "name": "ipython",
    "version": 3
   },
   "file_extension": ".py",
   "mimetype": "text/x-python",
   "name": "python",
   "nbconvert_exporter": "python",
   "pygments_lexer": "ipython3",
   "version": "3.8.10"
  }
 },
 "nbformat": 4,
 "nbformat_minor": 5
}
